{
  "metadata": {
    "kernelspec": {
      "display_name": "Python 3",
      "language": "python",
      "name": "python3"
    },
    "language_info": {
      "codemirror_mode": {
        "name": "ipython",
        "version": 3
      },
      "file_extension": ".py",
      "mimetype": "text/x-python",
      "name": "python",
      "nbconvert_exporter": "python",
      "pygments_lexer": "ipython3",
      "version": "3.6.0"
    }
  },
  "nbformat": 4,
  "nbformat_minor": 0,
  "cells": [
    {
      "cell_type": "markdown",
      "source": "## **Data Exploration**",
      "metadata": {}
    },
    {
      "cell_type": "code",
      "source": "import pandas as pd\nimport numpy as np\nimport glob\nimport matplotlib.pyplot as plt\nimport seaborn as sns\n%matplotlib inline",
      "execution_count": null,
      "outputs": [],
      "metadata": {}
    },
    {
      "cell_type": "code",
      "source": "airlines = pd.read_csv('../input/airlines.csv')\nairports = pd.read_csv('../input/airports.csv')\nflights = pd.read_csv('../input/flights.csv')",
      "execution_count": null,
      "outputs": [],
      "metadata": {}
    },
    {
      "cell_type": "code",
      "source": "#Airlines\nairlines.shape[0] #no of rows=14\nairlines.shape[1] #no of columns=2\nairlines.head(3)",
      "execution_count": null,
      "outputs": [],
      "metadata": {}
    },
    {
      "cell_type": "code",
      "source": "#Airports\nairports.shape[0] #no of rows=322\nairports.shape[1] #no of columns=7\nairports.head(3)",
      "execution_count": null,
      "outputs": [],
      "metadata": {}
    },
    {
      "cell_type": "code",
      "source": "flights.shape[0] #no of rows = 5819079\nflights.shape[1] #no of columns = 31\nflights.head()",
      "execution_count": null,
      "outputs": [],
      "metadata": {}
    },
    {
      "cell_type": "markdown",
      "source": "## Some important data definitions and relationships are mentioned below.\n### Data Definition\n*  AIR_TIME - The time duration between wheels_off and wheels_on time.\n*  WHEELS_OFF Time - The time point that the aircraft's wheels leave the ground.\n*  WHEELS_ON Time - The time point that the aircraft's wheels touch on the ground.\n*  TAXI_OUT Time - The time duration elapsed between departure from the origin airport gate and wheels off.\n*  TAXI_IN Time - The time duration elapsed between wheels-on and gate arrival at the destination airport.\n\n### Data Relationship\n*  departure_time = wheels_off - taxi_out\n*  departure_delay = departure_time - scheduled_departure\n*  arrival_time = wheels_on + taxi_in\n*  arrival_delay = arrival_time - scheduled_arrival\n*  elapsed_time =air_time + taxi_in + taxi_out\n*  air_time = wheels_on - wheels_off\n\n### We can check the relationships from the following table.",
      "metadata": {}
    },
    {
      "cell_type": "code",
      "source": "flights[['ELAPSED_TIME','TAXI_IN','AIR_TIME','TAXI_OUT','ARRIVAL_TIME','WHEELS_ON','WHEELS_OFF','ARRIVAL_DELAY','DEPARTURE_TIME','DEPARTURE_DELAY','SCHEDULED_TIME','SCHEDULED_ARRIVAL','SCHEDULED_DEPARTURE']][0:5]",
      "execution_count": null,
      "outputs": [],
      "metadata": {}
    },
    {
      "cell_type": "markdown",
      "source": "### We can also note the following from the above table.\n##### The following times are in the xx:yy - hour:minute format (e.g. 2354 means 11:54pm, 5 means 00:05 am)\nscheduled_departure,   departure_time,    scheduled_arrival,    arrival_time,    wheels_off,    wheels_on\n##### And the following times are in minutes format (negatives mean actual_time is ahead of scheduled_time for the absolute value of that negative number)\narrival_delay,    departure_delay,    taxi_in,    taxi_out,    scheduled_time,    elapsed_time,    air_time",
      "metadata": {}
    },
    {
      "cell_type": "code",
      "source": "missing_flights_data = {}\nfor item in flights.columns:\n    missing_flights_data[item] = flights[item].isnull().values.ravel().sum()\nmissing_flights_data",
      "execution_count": null,
      "outputs": [],
      "metadata": {}
    },
    {
      "cell_type": "code",
      "source": "unique_flights_data = {}\nfor item in flights.columns:\n    unique_flights_data[item] = flights[item].unique()\n#unique_flights_data",
      "execution_count": null,
      "outputs": [],
      "metadata": {}
    },
    {
      "cell_type": "markdown",
      "source": "### Now,let's add some features of our own.",
      "metadata": {}
    },
    {
      "cell_type": "code",
      "source": "flights.YEAR.unique() #2015\nday_of_week_desc={\n    7:'Monday',\n    1:'Tuesday',\n    2:'Wednesday',\n    3:'Thursday',\n    4:'Friday',\n    5:'Saturday',\n    6:'Sunday'\n}\nflights['DESC_DOW']=flights['DAY_OF_WEEK'].apply(lambda a:day_of_week_desc[a])\nflights.head()['DESC_DOW']",
      "execution_count": null,
      "outputs": [],
      "metadata": {}
    },
    {
      "cell_type": "code",
      "source": "airlines_dict = dict(zip(airlines['IATA_CODE'],airlines['AIRLINE']))\nairport_dict = dict(zip(airports['IATA_CODE'],airports['AIRPORT']))\nflights['DESC_AIRLINE'] = flights['AIRLINE'].apply(lambda x: airlines_dict[x])\nflights.head()['DESC_AIRLINE']",
      "execution_count": null,
      "outputs": [],
      "metadata": {}
    },
    {
      "cell_type": "markdown",
      "source": "A lot of airlines activity is given and the first question that pops up in our head is \n'Which airlines is the best?'\nSo,let's create a ranking module for airlines.We will store the relevant information throughout the process.\nFollowing are the factors that decide the rank of an airline.\n\n*  Highest Ratio of (Operated flights)/(Scheduled flights)\n*  Flight speed\n* Average arrival delay\n* Flight volume\n* Taxi In and Out Time\n\nI have not included avg. departure delay because usually it depends on the departure airport.\n###### Let's calculate the ratio of operated flights/scheduled flights for each airlines.",
      "metadata": {}
    },
    {
      "cell_type": "code",
      "source": "# flights.CANCELLED.unique() #0,1\n#Each airline is either cancelled or operated.\nrank_airlines = pd.DataFrame(flights.groupby('DESC_AIRLINE').count()['SCHEDULED_DEPARTURE'])\nrank_airlines['CANCELLED']=flights.groupby('DESC_AIRLINE').sum()['CANCELLED']\nrank_airlines['OPERATED']=rank_airlines['SCHEDULED_DEPARTURE']-rank_airlines['CANCELLED']\nrank_airlines['RATIO_OP_SCH']=rank_airlines['OPERATED']/rank_airlines['SCHEDULED_DEPARTURE']\nrank_airlines.drop(rank_airlines.columns[[0,1,2]],axis=1,inplace=True)\nrank_airlines.head()",
      "execution_count": null,
      "outputs": [],
      "metadata": {}
    },
    {
      "cell_type": "code",
      "source": "rank_airlines.sort(['RATIO_OP_SCH'],ascending = 1,inplace=True)\n# rank_airlines.head()\nrank_airlines['RATIO_OP_SCH'].plot(kind='bar',figsize=(14,6),rot=45)\nplt.title('Ratio of operated and scheduled flights for each airlines in increasing order')",
      "execution_count": null,
      "outputs": [],
      "metadata": {}
    },
    {
      "cell_type": "code",
      "source": "flights['FLIGHT_SPEED'] = 60*flights['DISTANCE']/flights['AIR_TIME']\nrank_airlines['FLIGHT_SPEED'] = flights.groupby('DESC_AIRLINE')['FLIGHT_SPEED'].mean()\nflights[['DESC_AIRLINE','FLIGHT_SPEED']].boxplot(column = 'FLIGHT_SPEED',by='DESC_AIRLINE',figsize=(13,7),rot=45)",
      "execution_count": null,
      "outputs": [],
      "metadata": {}
    },
    {
      "cell_type": "markdown",
      "source": "The plot clearly shows that almost all the flights of any airline run at the speed of 350-450 miles/hour.\nWe have also added this information in our ranking module dataframe for future reference.",
      "metadata": {}
    },
    {
      "cell_type": "code",
      "source": "rank_airlines.head()",
      "execution_count": null,
      "outputs": [],
      "metadata": {}
    },
    {
      "cell_type": "markdown",
      "source": "Now, let's find the average delay for a particular \n\nBoth arrival delay and departure delay are in minutes.",
      "metadata": {}
    },
    {
      "cell_type": "code",
      "source": "flights.groupby('DESC_AIRLINE')[['ARRIVAL_DELAY','DEPARTURE_DELAY']].mean()\n#Let's add arrival delay to our ranking module as well.\nrank_airlines['ARRIVAL_DELAY']= flights.groupby('DESC_AIRLINE')['ARRIVAL_DELAY'].mean()\n#As our flight speed is in miles/hour,it's probably best to keep ARRIVAL DELAY in hours.\nrank_airlines['ARRIVAL_DELAY']=rank_airlines['ARRIVAL_DELAY'].apply(lambda x:x/60)\nrank_airlines.head()",
      "execution_count": null,
      "outputs": [],
      "metadata": {}
    },
    {
      "cell_type": "markdown",
      "source": "#### Meanwhile, let's take a look at the plot of arrival and departure delay for better understanding about airlines and airports.",
      "metadata": {}
    },
    {
      "cell_type": "code",
      "source": "df_delay = pd.DataFrame(flights.groupby('DESC_AIRLINE')[['ARRIVAL_DELAY','DEPARTURE_DELAY']].mean())\ndf_delay.sort(['ARRIVAL_DELAY','DEPARTURE_DELAY'],ascending = [1,1],inplace=True)\nplt.figure(figsize=(12,7))\nsns.set_color_codes(\"deep\")\nsns.set_context(font_scale=2.5)\nplot = sns.barplot(x='DEPARTURE_DELAY',y=df_delay.index,data = df_delay,color = 'y')\nplot = sns.barplot(x='ARRIVAL_DELAY',y=df_delay.index,data = df_delay,color = 'g')\nplot.set(xlabel='Mean flight delays (Arrival : Green,Departure : Yellow)')",
      "execution_count": null,
      "outputs": [],
      "metadata": {}
    },
    {
      "cell_type": "markdown",
      "source": "As we can see, almost all the airlines have arrival delays greater than departure delays, which is logical as the departure delays are mostly due to late arrival, security reasons etc. Departure delays mostly depend upon the airport. We can keep this in mind while creating the module for ranking of airports.\n\nOne **important** thing to note is that Alaska Airlines has a negative arrival delay which means it arrives before scheduled time on an average.\n\nNow,let's look at the flight volume of each airline.",
      "metadata": {}
    },
    {
      "cell_type": "code",
      "source": "rank_airlines['FLIGHTS_VOLUME'] = flights.groupby('DESC_AIRLINE')['FLIGHT_NUMBER'].count()\n#Let's change it into ratio of flight_vol/total flight_vol\ntotal = rank_airlines['FLIGHTS_VOLUME'].sum()\nrank_airlines['FLIGHTS_VOLUME'] = rank_airlines['FLIGHTS_VOLUME'].apply(lambda x:(x/float(total)))\nrank_airlines['FLIGHTS_VOLUME'].plot.pie(figsize=(10,10),rot=45)",
      "execution_count": null,
      "outputs": [],
      "metadata": {}
    },
    {
      "cell_type": "markdown",
      "source": "Now,let us consider taxi in and out time as well.\n\n**TAXI_OUT time** - The time duration elapsed between departure from the origin airport gate and wheels off.\n\n**TAXI_IN time** - The time duration elapsed between wheels-on and gate arrival at the destination airport.",
      "metadata": {}
    },
    {
      "cell_type": "code",
      "source": "rank_airlines[['TAXI_IN','TAXI_OUT']] = flights.groupby('DESC_AIRLINE')[['TAXI_IN','TAXI_OUT']].mean()\n#Taxi in and out time are in minutes.Let's change them to hours.\n# rank_airlines[['TAXI_IN','TAXI_OUT']] = rank_airlines[['TAXI_IN','TAXI_OUT']].apply(lambda x, y : (x/float(60),y/float(60)))\nrank_airlines['TAXI_IN'] = rank_airlines['TAXI_IN'].apply(lambda x:(x/float(60)))\nrank_airlines['TAXI_OUT'] = rank_airlines['TAXI_OUT'].apply(lambda x:(x/float(60)))\nplt.figure(figsize=(11, 8))\nsns.set_color_codes(\"deep\")\nsns.set_context(font_scale=2.5)\nplot = sns.barplot(x='TAXI_OUT',y=rank_airlines.index,data = rank_airlines,color = 'crimson')\nplot = sns.barplot(x='TAXI_IN',y=rank_airlines.index,data = rank_airlines,color = 'cyan')\nplot.set(xlabel='Mean taxi out and in time (Taxi Out : Green,Taxi In : Yellow)')",
      "execution_count": null,
      "outputs": [],
      "metadata": {}
    },
    {
      "cell_type": "markdown",
      "source": "Now,let's find the rank of a particular airline.\n\nWe have 5 variables which decide a score.\nThe score is proportional to a subset (a) of the variables whereas being inversely proportional to a different subset (b) of the variables.\n\nThe most naive way to capture this information is through the following formula.<br>\n\n**Score_airline = a/(1+b)**, where\n\n        a = (RATIO_OP_SCH) \\* (FLIGHT_SPEED) \\* (FLIGHTS_VOLUME)\n\n        and \n\n        b = (ARRIVAL_DELAY) \\* (TAXI_IN) \\* (TAXI_OUT)\n        \nA higher score indicates a better rank.",
      "metadata": {}
    },
    {
      "cell_type": "code",
      "source": "# I have scaled the data to 1-2\nfor i in rank_airlines.columns:\n    rank_airlines[i] = ((rank_airlines[i]-rank_airlines[i].min())/(rank_airlines[i].max()-rank_airlines[i].min()))+1\na = rank_airlines.RATIO_OP_SCH*rank_airlines.FLIGHT_SPEED*rank_airlines.FLIGHTS_VOLUME\nb = rank_airlines.ARRIVAL_DELAY*rank_airlines.TAXI_IN*rank_airlines.TAXI_OUT\nrank_airlines['SCORE'] = a/(1+b)\nrank_airlines.sort(['SCORE'],ascending=False,inplace=True)\nrank_airlines.head()",
      "execution_count": null,
      "outputs": [],
      "metadata": {}
    },
    {
      "cell_type": "code",
      "source": "rank_airlines['SCORE'].plot.bar(figsize = (11,8),rot=55)",
      "execution_count": null,
      "outputs": [],
      "metadata": {}
    },
    {
      "cell_type": "markdown",
      "source": "In our earlier plots, we noticed the highest flight volume for Southwest Airlines and negative arrival delay for Alaska Airlines. Hence, it's no surprise that these two airlines grab the top spots. ",
      "metadata": {}
    },
    {
      "cell_type": "markdown",
      "source": "# Let's look at some insights from the data.\n## Most busy day.",
      "metadata": {}
    },
    {
      "cell_type": "code",
      "source": "df_busyday = pd.DataFrame(flights.groupby('DESC_DOW').count()['SCHEDULED_DEPARTURE'])\ndf_busyday = df_busyday.sort(['SCHEDULED_DEPARTURE'],ascending = 1)\ndf_busyday.head()\ndf_busyday.plot(kind='line',subplots=True,c='r',figsize=(12,6),legend=True)\nplt.title('Number of Scheduled flights per day')",
      "execution_count": null,
      "outputs": [],
      "metadata": {}
    },
    {
      "cell_type": "markdown",
      "source": "### Daily flight volume of each airline",
      "metadata": {}
    },
    {
      "cell_type": "code",
      "source": "flight_volume_airline_day = flights.pivot_table(index=\"DESC_DOW\",columns=\"DESC_AIRLINE\",values=\"SCHEDULED_DEPARTURE\",aggfunc=lambda x:x.count())\n#flight_volume_airline_day.head()\nfig = plt.figure(figsize=(14,10))\nsns.heatmap(flight_volume_airline_day, linecolor=\"w\", linewidths=1)\nplt.xticks(rotation=45)",
      "execution_count": null,
      "outputs": [],
      "metadata": {}
    },
    {
      "cell_type": "markdown",
      "source": "### Trend of flight Cancellations",
      "metadata": {}
    },
    {
      "cell_type": "code",
      "source": "df_cancellations = pd.DataFrame(flights.groupby('DESC_DOW').sum()['CANCELLED'])\ndf_cancellations=df_cancellations.sort(['CANCELLED'],ascending =1)\ndf_cancellations.head()\ndf_cancellations.plot(kind='line',figsize=(13,6),subplots=True,legend=True)\nplt.title('Number of cancellations each day')",
      "execution_count": null,
      "outputs": [],
      "metadata": {}
    },
    {
      "cell_type": "code",
      "source": "flights.CANCELLATION_REASON.unique()",
      "execution_count": null,
      "outputs": [],
      "metadata": {}
    },
    {
      "cell_type": "markdown",
      "source": "'CANCELLATION_REASON' indicates with a letter the reason for the cancellation of the flight.\n\n A - Carrier; B - Weather; C - National Air System; D - Security",
      "metadata": {}
    },
    {
      "cell_type": "code",
      "source": "cancellation_reason = pd.DataFrame(flights.groupby(['DESC_AIRLINE'])['AIR_SYSTEM_DELAY', 'AIRLINE_DELAY',\n                                               'LATE_AIRCRAFT_DELAY', 'WEATHER_DELAY'].mean())\n# flight_volume_airline_day = flights.pivot_table(index=\"DESC_DOW\",columns=\"DESC_AIRLINE\",values=\"SCHEDULED_DEPARTURE\",aggfunc=lambda x:x.count())\ncancellation_reason.head()\ncancellation_reason.plot.bar(legend = True,figsize = (13,11),rot=55)\nplt.legend(loc=2,prop={'size':13})\nplt.tick_params(labelsize = 13)",
      "execution_count": null,
      "outputs": [],
      "metadata": {}
    },
    {
      "cell_type": "markdown",
      "source": "That's all for now. I will keep adding more insights.\n\nI appreciate your suggestions. Please leave them in the comment box.",
      "metadata": {}
    }
  ]
}