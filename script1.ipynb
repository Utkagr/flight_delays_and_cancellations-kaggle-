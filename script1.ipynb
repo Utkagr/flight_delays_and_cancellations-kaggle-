{
 "cells": [
  {
   "cell_type": "markdown",
   "metadata": {},
   "source": [
    "# Flight Delays and Cancellations\n",
    "Dataset link <https://www.kaggle.com/usdot/flight-delays>"
   ]
  },
  {
   "cell_type": "markdown",
   "metadata": {},
   "source": [
    "### Data Exploration"
   ]
  },
  {
   "cell_type": "code",
   "execution_count": 1,
   "metadata": {
    "collapsed": false
   },
   "outputs": [
    {
     "name": "stderr",
     "output_type": "stream",
     "text": [
      "/home/utkarsh/anaconda2/lib/python2.7/site-packages/matplotlib/font_manager.py:273: UserWarning: Matplotlib is building the font cache using fc-list. This may take a moment.\n",
      "  warnings.warn('Matplotlib is building the font cache using fc-list. This may take a moment.')\n"
     ]
    }
   ],
   "source": [
    "import pandas as pd\n",
    "import numpy as np\n",
    "import glob\n",
    "import matplotlib.pyplot as plt\n",
    "import seaborn as sns\n",
    "%matplotlib inline"
   ]
  },
  {
   "cell_type": "code",
   "execution_count": 2,
   "metadata": {
    "collapsed": false
   },
   "outputs": [],
   "source": [
    "airlines = pd.read_csv('airlines.csv')\n",
    "airports = pd.read_csv('airports.csv')\n",
    "flights = pd.read_csv('flights.csv',nrows=1163815)"
   ]
  },
  {
   "cell_type": "markdown",
   "metadata": {
    "collapsed": true
   },
   "source": [
    "Due to memory limitations,I have read only 1/5th of the flights.csv file.Total no of rows are $5819078$."
   ]
  },
  {
   "cell_type": "code",
   "execution_count": 4,
   "metadata": {
    "collapsed": false,
    "scrolled": true
   },
   "outputs": [
    {
     "data": {
      "text/html": [
       "<div>\n",
       "<table border=\"1\" class=\"dataframe\">\n",
       "  <thead>\n",
       "    <tr style=\"text-align: right;\">\n",
       "      <th></th>\n",
       "      <th>IATA_CODE</th>\n",
       "      <th>AIRLINE</th>\n",
       "    </tr>\n",
       "  </thead>\n",
       "  <tbody>\n",
       "    <tr>\n",
       "      <th>0</th>\n",
       "      <td>UA</td>\n",
       "      <td>United Air Lines Inc.</td>\n",
       "    </tr>\n",
       "    <tr>\n",
       "      <th>1</th>\n",
       "      <td>AA</td>\n",
       "      <td>American Airlines Inc.</td>\n",
       "    </tr>\n",
       "    <tr>\n",
       "      <th>2</th>\n",
       "      <td>US</td>\n",
       "      <td>US Airways Inc.</td>\n",
       "    </tr>\n",
       "  </tbody>\n",
       "</table>\n",
       "</div>"
      ],
      "text/plain": [
       "  IATA_CODE                 AIRLINE\n",
       "0        UA   United Air Lines Inc.\n",
       "1        AA  American Airlines Inc.\n",
       "2        US         US Airways Inc."
      ]
     },
     "execution_count": 4,
     "metadata": {},
     "output_type": "execute_result"
    }
   ],
   "source": [
    "#Airlines\n",
    "airlines.shape[0] #no of rows=14\n",
    "airlines.shape[1] #no of columns=2\n",
    "airlines.head(3)"
   ]
  },
  {
   "cell_type": "code",
   "execution_count": 5,
   "metadata": {
    "collapsed": false
   },
   "outputs": [
    {
     "data": {
      "text/html": [
       "<div>\n",
       "<table border=\"1\" class=\"dataframe\">\n",
       "  <thead>\n",
       "    <tr style=\"text-align: right;\">\n",
       "      <th></th>\n",
       "      <th>IATA_CODE</th>\n",
       "      <th>AIRPORT</th>\n",
       "      <th>CITY</th>\n",
       "      <th>STATE</th>\n",
       "      <th>COUNTRY</th>\n",
       "      <th>LATITUDE</th>\n",
       "      <th>LONGITUDE</th>\n",
       "    </tr>\n",
       "  </thead>\n",
       "  <tbody>\n",
       "    <tr>\n",
       "      <th>0</th>\n",
       "      <td>ABE</td>\n",
       "      <td>Lehigh Valley International Airport</td>\n",
       "      <td>Allentown</td>\n",
       "      <td>PA</td>\n",
       "      <td>USA</td>\n",
       "      <td>40.65236</td>\n",
       "      <td>-75.44040</td>\n",
       "    </tr>\n",
       "    <tr>\n",
       "      <th>1</th>\n",
       "      <td>ABI</td>\n",
       "      <td>Abilene Regional Airport</td>\n",
       "      <td>Abilene</td>\n",
       "      <td>TX</td>\n",
       "      <td>USA</td>\n",
       "      <td>32.41132</td>\n",
       "      <td>-99.68190</td>\n",
       "    </tr>\n",
       "    <tr>\n",
       "      <th>2</th>\n",
       "      <td>ABQ</td>\n",
       "      <td>Albuquerque International Sunport</td>\n",
       "      <td>Albuquerque</td>\n",
       "      <td>NM</td>\n",
       "      <td>USA</td>\n",
       "      <td>35.04022</td>\n",
       "      <td>-106.60919</td>\n",
       "    </tr>\n",
       "  </tbody>\n",
       "</table>\n",
       "</div>"
      ],
      "text/plain": [
       "  IATA_CODE                              AIRPORT         CITY STATE COUNTRY  \\\n",
       "0       ABE  Lehigh Valley International Airport    Allentown    PA     USA   \n",
       "1       ABI             Abilene Regional Airport      Abilene    TX     USA   \n",
       "2       ABQ    Albuquerque International Sunport  Albuquerque    NM     USA   \n",
       "\n",
       "   LATITUDE  LONGITUDE  \n",
       "0  40.65236  -75.44040  \n",
       "1  32.41132  -99.68190  \n",
       "2  35.04022 -106.60919  "
      ]
     },
     "execution_count": 5,
     "metadata": {},
     "output_type": "execute_result"
    }
   ],
   "source": [
    "#Airports\n",
    "airports.shape[0] #no of rows=322\n",
    "airports.shape[1] #no of columns=7\n",
    "airports.head(3)"
   ]
  },
  {
   "cell_type": "code",
   "execution_count": 6,
   "metadata": {
    "collapsed": false,
    "scrolled": true
   },
   "outputs": [
    {
     "data": {
      "text/html": [
       "<div>\n",
       "<table border=\"1\" class=\"dataframe\">\n",
       "  <thead>\n",
       "    <tr style=\"text-align: right;\">\n",
       "      <th></th>\n",
       "      <th>YEAR</th>\n",
       "      <th>MONTH</th>\n",
       "      <th>DAY</th>\n",
       "      <th>DAY_OF_WEEK</th>\n",
       "      <th>AIRLINE</th>\n",
       "      <th>FLIGHT_NUMBER</th>\n",
       "      <th>TAIL_NUMBER</th>\n",
       "      <th>ORIGIN_AIRPORT</th>\n",
       "      <th>DESTINATION_AIRPORT</th>\n",
       "      <th>SCHEDULED_DEPARTURE</th>\n",
       "      <th>...</th>\n",
       "      <th>ARRIVAL_TIME</th>\n",
       "      <th>ARRIVAL_DELAY</th>\n",
       "      <th>DIVERTED</th>\n",
       "      <th>CANCELLED</th>\n",
       "      <th>CANCELLATION_REASON</th>\n",
       "      <th>AIR_SYSTEM_DELAY</th>\n",
       "      <th>SECURITY_DELAY</th>\n",
       "      <th>AIRLINE_DELAY</th>\n",
       "      <th>LATE_AIRCRAFT_DELAY</th>\n",
       "      <th>WEATHER_DELAY</th>\n",
       "    </tr>\n",
       "  </thead>\n",
       "  <tbody>\n",
       "    <tr>\n",
       "      <th>0</th>\n",
       "      <td>2015</td>\n",
       "      <td>1</td>\n",
       "      <td>1</td>\n",
       "      <td>4</td>\n",
       "      <td>AS</td>\n",
       "      <td>98</td>\n",
       "      <td>N407AS</td>\n",
       "      <td>ANC</td>\n",
       "      <td>SEA</td>\n",
       "      <td>5</td>\n",
       "      <td>...</td>\n",
       "      <td>408.0</td>\n",
       "      <td>-22.0</td>\n",
       "      <td>0</td>\n",
       "      <td>0</td>\n",
       "      <td>NaN</td>\n",
       "      <td>NaN</td>\n",
       "      <td>NaN</td>\n",
       "      <td>NaN</td>\n",
       "      <td>NaN</td>\n",
       "      <td>NaN</td>\n",
       "    </tr>\n",
       "    <tr>\n",
       "      <th>1</th>\n",
       "      <td>2015</td>\n",
       "      <td>1</td>\n",
       "      <td>1</td>\n",
       "      <td>4</td>\n",
       "      <td>AA</td>\n",
       "      <td>2336</td>\n",
       "      <td>N3KUAA</td>\n",
       "      <td>LAX</td>\n",
       "      <td>PBI</td>\n",
       "      <td>10</td>\n",
       "      <td>...</td>\n",
       "      <td>741.0</td>\n",
       "      <td>-9.0</td>\n",
       "      <td>0</td>\n",
       "      <td>0</td>\n",
       "      <td>NaN</td>\n",
       "      <td>NaN</td>\n",
       "      <td>NaN</td>\n",
       "      <td>NaN</td>\n",
       "      <td>NaN</td>\n",
       "      <td>NaN</td>\n",
       "    </tr>\n",
       "    <tr>\n",
       "      <th>2</th>\n",
       "      <td>2015</td>\n",
       "      <td>1</td>\n",
       "      <td>1</td>\n",
       "      <td>4</td>\n",
       "      <td>US</td>\n",
       "      <td>840</td>\n",
       "      <td>N171US</td>\n",
       "      <td>SFO</td>\n",
       "      <td>CLT</td>\n",
       "      <td>20</td>\n",
       "      <td>...</td>\n",
       "      <td>811.0</td>\n",
       "      <td>5.0</td>\n",
       "      <td>0</td>\n",
       "      <td>0</td>\n",
       "      <td>NaN</td>\n",
       "      <td>NaN</td>\n",
       "      <td>NaN</td>\n",
       "      <td>NaN</td>\n",
       "      <td>NaN</td>\n",
       "      <td>NaN</td>\n",
       "    </tr>\n",
       "    <tr>\n",
       "      <th>3</th>\n",
       "      <td>2015</td>\n",
       "      <td>1</td>\n",
       "      <td>1</td>\n",
       "      <td>4</td>\n",
       "      <td>AA</td>\n",
       "      <td>258</td>\n",
       "      <td>N3HYAA</td>\n",
       "      <td>LAX</td>\n",
       "      <td>MIA</td>\n",
       "      <td>20</td>\n",
       "      <td>...</td>\n",
       "      <td>756.0</td>\n",
       "      <td>-9.0</td>\n",
       "      <td>0</td>\n",
       "      <td>0</td>\n",
       "      <td>NaN</td>\n",
       "      <td>NaN</td>\n",
       "      <td>NaN</td>\n",
       "      <td>NaN</td>\n",
       "      <td>NaN</td>\n",
       "      <td>NaN</td>\n",
       "    </tr>\n",
       "    <tr>\n",
       "      <th>4</th>\n",
       "      <td>2015</td>\n",
       "      <td>1</td>\n",
       "      <td>1</td>\n",
       "      <td>4</td>\n",
       "      <td>AS</td>\n",
       "      <td>135</td>\n",
       "      <td>N527AS</td>\n",
       "      <td>SEA</td>\n",
       "      <td>ANC</td>\n",
       "      <td>25</td>\n",
       "      <td>...</td>\n",
       "      <td>259.0</td>\n",
       "      <td>-21.0</td>\n",
       "      <td>0</td>\n",
       "      <td>0</td>\n",
       "      <td>NaN</td>\n",
       "      <td>NaN</td>\n",
       "      <td>NaN</td>\n",
       "      <td>NaN</td>\n",
       "      <td>NaN</td>\n",
       "      <td>NaN</td>\n",
       "    </tr>\n",
       "  </tbody>\n",
       "</table>\n",
       "<p>5 rows × 31 columns</p>\n",
       "</div>"
      ],
      "text/plain": [
       "   YEAR  MONTH  DAY  DAY_OF_WEEK AIRLINE  FLIGHT_NUMBER TAIL_NUMBER  \\\n",
       "0  2015      1    1            4      AS             98      N407AS   \n",
       "1  2015      1    1            4      AA           2336      N3KUAA   \n",
       "2  2015      1    1            4      US            840      N171US   \n",
       "3  2015      1    1            4      AA            258      N3HYAA   \n",
       "4  2015      1    1            4      AS            135      N527AS   \n",
       "\n",
       "  ORIGIN_AIRPORT DESTINATION_AIRPORT  SCHEDULED_DEPARTURE      ...        \\\n",
       "0            ANC                 SEA                    5      ...         \n",
       "1            LAX                 PBI                   10      ...         \n",
       "2            SFO                 CLT                   20      ...         \n",
       "3            LAX                 MIA                   20      ...         \n",
       "4            SEA                 ANC                   25      ...         \n",
       "\n",
       "   ARRIVAL_TIME  ARRIVAL_DELAY  DIVERTED  CANCELLED  CANCELLATION_REASON  \\\n",
       "0         408.0          -22.0         0          0                  NaN   \n",
       "1         741.0           -9.0         0          0                  NaN   \n",
       "2         811.0            5.0         0          0                  NaN   \n",
       "3         756.0           -9.0         0          0                  NaN   \n",
       "4         259.0          -21.0         0          0                  NaN   \n",
       "\n",
       "   AIR_SYSTEM_DELAY  SECURITY_DELAY  AIRLINE_DELAY  LATE_AIRCRAFT_DELAY  \\\n",
       "0               NaN             NaN            NaN                  NaN   \n",
       "1               NaN             NaN            NaN                  NaN   \n",
       "2               NaN             NaN            NaN                  NaN   \n",
       "3               NaN             NaN            NaN                  NaN   \n",
       "4               NaN             NaN            NaN                  NaN   \n",
       "\n",
       "   WEATHER_DELAY  \n",
       "0            NaN  \n",
       "1            NaN  \n",
       "2            NaN  \n",
       "3            NaN  \n",
       "4            NaN  \n",
       "\n",
       "[5 rows x 31 columns]"
      ]
     },
     "execution_count": 6,
     "metadata": {},
     "output_type": "execute_result"
    }
   ],
   "source": [
    "flights.shape[0] #no of rows = 1163815\n",
    "flights.shape[1] #no of columns = 31\n",
    "flights.head()"
   ]
  },
  {
   "cell_type": "code",
   "execution_count": 7,
   "metadata": {
    "collapsed": false,
    "scrolled": true
   },
   "outputs": [
    {
     "name": "stdout",
     "output_type": "stream",
     "text": [
      "<class 'pandas.core.frame.DataFrame'>\n",
      "RangeIndex: 1163815 entries, 0 to 1163814\n",
      "Data columns (total 31 columns):\n",
      "YEAR                   1163815 non-null int64\n",
      "MONTH                  1163815 non-null int64\n",
      "DAY                    1163815 non-null int64\n",
      "DAY_OF_WEEK            1163815 non-null int64\n",
      "AIRLINE                1163815 non-null object\n",
      "FLIGHT_NUMBER          1163815 non-null int64\n",
      "TAIL_NUMBER            1155951 non-null object\n",
      "ORIGIN_AIRPORT         1163815 non-null object\n",
      "DESTINATION_AIRPORT    1163815 non-null object\n",
      "SCHEDULED_DEPARTURE    1163815 non-null int64\n",
      "DEPARTURE_TIME         1123724 non-null float64\n",
      "DEPARTURE_DELAY        1123724 non-null float64\n",
      "TAXI_OUT               1122977 non-null float64\n",
      "WHEELS_OFF             1122977 non-null float64\n",
      "SCHEDULED_TIME         1163813 non-null float64\n",
      "ELAPSED_TIME           1119898 non-null float64\n",
      "AIR_TIME               1119898 non-null float64\n",
      "DISTANCE               1163815 non-null int64\n",
      "WHEELS_ON              1121859 non-null float64\n",
      "TAXI_IN                1121859 non-null float64\n",
      "SCHEDULED_ARRIVAL      1163815 non-null int64\n",
      "ARRIVAL_TIME           1121859 non-null float64\n",
      "ARRIVAL_DELAY          1119898 non-null float64\n",
      "DIVERTED               1163815 non-null int64\n",
      "CANCELLED              1163815 non-null int64\n",
      "CANCELLATION_REASON    41147 non-null object\n",
      "AIR_SYSTEM_DELAY       246317 non-null float64\n",
      "SECURITY_DELAY         246317 non-null float64\n",
      "AIRLINE_DELAY          246317 non-null float64\n",
      "LATE_AIRCRAFT_DELAY    246317 non-null float64\n",
      "WEATHER_DELAY          246317 non-null float64\n",
      "dtypes: float64(16), int64(10), object(5)\n",
      "memory usage: 275.3+ MB\n"
     ]
    }
   ],
   "source": [
    "flights.info()\n",
    "# The result suggests that columns like CANCELLATION REASON,AIR_SYSTEM_DELAY,SECURITY_DELAY,etc have a lot of missing values.\n"
   ]
  },
  {
   "cell_type": "markdown",
   "metadata": {},
   "source": [
    "## Some important data definitions and relationships are mentioned below.\n",
    "### Data Definition\n",
    "*  AIR_TIME - The time duration between wheels_off and wheels_on time.\n",
    "*  WHEELS_OFF Time - The time point that the aircraft's wheels leave the ground.\n",
    "*  WHEELS_ON Time - The time point that the aircraft's wheels touch on the ground.\n",
    "*  TAXI_OUT Time - The time duration elapsed between departure from the origin airport gate and wheels off.\n",
    "*  TAXI_IN Time - The time duration elapsed between wheels-on and gate arrival at the destination airport.\n",
    "\n",
    "### Data Relationship\n",
    "*  departure_time = wheels_off - taxi_out\n",
    "*  departure_delay = departure_time - scheduled_departure\n",
    "*  arrival_time = wheels_on + taxi_in\n",
    "*  arrival_delay = arrival_time - scheduled_arrival\n",
    "*  elapsed_time =air_time + taxi_in + taxi_out\n",
    "*  air_time = wheels_on - wheels_off\n",
    "\n",
    "### We can check the relationships from the following table."
   ]
  },
  {
   "cell_type": "code",
   "execution_count": 8,
   "metadata": {
    "collapsed": false
   },
   "outputs": [
    {
     "data": {
      "text/html": [
       "<div>\n",
       "<table border=\"1\" class=\"dataframe\">\n",
       "  <thead>\n",
       "    <tr style=\"text-align: right;\">\n",
       "      <th></th>\n",
       "      <th>ELAPSED_TIME</th>\n",
       "      <th>TAXI_IN</th>\n",
       "      <th>AIR_TIME</th>\n",
       "      <th>TAXI_OUT</th>\n",
       "      <th>ARRIVAL_TIME</th>\n",
       "      <th>WHEELS_ON</th>\n",
       "      <th>WHEELS_OFF</th>\n",
       "      <th>ARRIVAL_DELAY</th>\n",
       "      <th>DEPARTURE_TIME</th>\n",
       "      <th>DEPARTURE_DELAY</th>\n",
       "      <th>SCHEDULED_TIME</th>\n",
       "      <th>SCHEDULED_ARRIVAL</th>\n",
       "      <th>SCHEDULED_DEPARTURE</th>\n",
       "    </tr>\n",
       "  </thead>\n",
       "  <tbody>\n",
       "    <tr>\n",
       "      <th>0</th>\n",
       "      <td>194.0</td>\n",
       "      <td>4.0</td>\n",
       "      <td>169.0</td>\n",
       "      <td>21.0</td>\n",
       "      <td>408.0</td>\n",
       "      <td>404.0</td>\n",
       "      <td>15.0</td>\n",
       "      <td>-22.0</td>\n",
       "      <td>2354.0</td>\n",
       "      <td>-11.0</td>\n",
       "      <td>205.0</td>\n",
       "      <td>430</td>\n",
       "      <td>5</td>\n",
       "    </tr>\n",
       "    <tr>\n",
       "      <th>1</th>\n",
       "      <td>279.0</td>\n",
       "      <td>4.0</td>\n",
       "      <td>263.0</td>\n",
       "      <td>12.0</td>\n",
       "      <td>741.0</td>\n",
       "      <td>737.0</td>\n",
       "      <td>14.0</td>\n",
       "      <td>-9.0</td>\n",
       "      <td>2.0</td>\n",
       "      <td>-8.0</td>\n",
       "      <td>280.0</td>\n",
       "      <td>750</td>\n",
       "      <td>10</td>\n",
       "    </tr>\n",
       "    <tr>\n",
       "      <th>2</th>\n",
       "      <td>293.0</td>\n",
       "      <td>11.0</td>\n",
       "      <td>266.0</td>\n",
       "      <td>16.0</td>\n",
       "      <td>811.0</td>\n",
       "      <td>800.0</td>\n",
       "      <td>34.0</td>\n",
       "      <td>5.0</td>\n",
       "      <td>18.0</td>\n",
       "      <td>-2.0</td>\n",
       "      <td>286.0</td>\n",
       "      <td>806</td>\n",
       "      <td>20</td>\n",
       "    </tr>\n",
       "    <tr>\n",
       "      <th>3</th>\n",
       "      <td>281.0</td>\n",
       "      <td>8.0</td>\n",
       "      <td>258.0</td>\n",
       "      <td>15.0</td>\n",
       "      <td>756.0</td>\n",
       "      <td>748.0</td>\n",
       "      <td>30.0</td>\n",
       "      <td>-9.0</td>\n",
       "      <td>15.0</td>\n",
       "      <td>-5.0</td>\n",
       "      <td>285.0</td>\n",
       "      <td>805</td>\n",
       "      <td>20</td>\n",
       "    </tr>\n",
       "    <tr>\n",
       "      <th>4</th>\n",
       "      <td>215.0</td>\n",
       "      <td>5.0</td>\n",
       "      <td>199.0</td>\n",
       "      <td>11.0</td>\n",
       "      <td>259.0</td>\n",
       "      <td>254.0</td>\n",
       "      <td>35.0</td>\n",
       "      <td>-21.0</td>\n",
       "      <td>24.0</td>\n",
       "      <td>-1.0</td>\n",
       "      <td>235.0</td>\n",
       "      <td>320</td>\n",
       "      <td>25</td>\n",
       "    </tr>\n",
       "  </tbody>\n",
       "</table>\n",
       "</div>"
      ],
      "text/plain": [
       "   ELAPSED_TIME  TAXI_IN  AIR_TIME  TAXI_OUT  ARRIVAL_TIME  WHEELS_ON  \\\n",
       "0         194.0      4.0     169.0      21.0         408.0      404.0   \n",
       "1         279.0      4.0     263.0      12.0         741.0      737.0   \n",
       "2         293.0     11.0     266.0      16.0         811.0      800.0   \n",
       "3         281.0      8.0     258.0      15.0         756.0      748.0   \n",
       "4         215.0      5.0     199.0      11.0         259.0      254.0   \n",
       "\n",
       "   WHEELS_OFF  ARRIVAL_DELAY  DEPARTURE_TIME  DEPARTURE_DELAY  SCHEDULED_TIME  \\\n",
       "0        15.0          -22.0          2354.0            -11.0           205.0   \n",
       "1        14.0           -9.0             2.0             -8.0           280.0   \n",
       "2        34.0            5.0            18.0             -2.0           286.0   \n",
       "3        30.0           -9.0            15.0             -5.0           285.0   \n",
       "4        35.0          -21.0            24.0             -1.0           235.0   \n",
       "\n",
       "   SCHEDULED_ARRIVAL  SCHEDULED_DEPARTURE  \n",
       "0                430                    5  \n",
       "1                750                   10  \n",
       "2                806                   20  \n",
       "3                805                   20  \n",
       "4                320                   25  "
      ]
     },
     "execution_count": 8,
     "metadata": {},
     "output_type": "execute_result"
    }
   ],
   "source": [
    "flights[['ELAPSED_TIME','TAXI_IN','AIR_TIME','TAXI_OUT','ARRIVAL_TIME','WHEELS_ON','WHEELS_OFF','ARRIVAL_DELAY','DEPARTURE_TIME','DEPARTURE_DELAY','SCHEDULED_TIME','SCHEDULED_ARRIVAL','SCHEDULED_DEPARTURE']][0:5]"
   ]
  },
  {
   "cell_type": "markdown",
   "metadata": {},
   "source": [
    "### We can also note the following from the above table.\n",
    "##### The following times are in the xx:yy - hour:minute format (e.g. 2354 means 11:54pm, 5 means 00:05 am)\n",
    "scheduled_departure,   departure_time,    scheduled_arrival,    arrival_time,    wheels_off,    wheels_on\n",
    "##### And the following times are in minutes format (negatives mean actual_time is ahead of scheduled_time for the absolute value of that negative number)\n",
    "arrival_delay,    departure_delay,    taxi_in,    taxi_out,    scheduled_time,    elapsed_time,    air_time"
   ]
  },
  {
   "cell_type": "markdown",
   "metadata": {},
   "source": [
    "### Now,let's add some features of our own."
   ]
  },
  {
   "cell_type": "code",
   "execution_count": 9,
   "metadata": {
    "collapsed": false
   },
   "outputs": [
    {
     "data": {
      "text/plain": [
       "array([2015])"
      ]
     },
     "execution_count": 9,
     "metadata": {},
     "output_type": "execute_result"
    }
   ],
   "source": [
    "flights.YEAR.unique() #This implies that the data we are dealing with is of 2015 only.\n",
    "#Check the column DAY_OF_WEEK which is 4 for january 1,2015.In India,the fourth day of the week is Thursday.\n",
    "#Let's add some description columns for the same."
   ]
  },
  {
   "cell_type": "code",
   "execution_count": 10,
   "metadata": {
    "collapsed": false,
    "scrolled": true
   },
   "outputs": [
    {
     "data": {
      "text/html": [
       "<div>\n",
       "<table border=\"1\" class=\"dataframe\">\n",
       "  <thead>\n",
       "    <tr style=\"text-align: right;\">\n",
       "      <th></th>\n",
       "      <th>YEAR</th>\n",
       "      <th>MONTH</th>\n",
       "      <th>DAY</th>\n",
       "      <th>DAY_OF_WEEK</th>\n",
       "      <th>AIRLINE</th>\n",
       "      <th>FLIGHT_NUMBER</th>\n",
       "      <th>TAIL_NUMBER</th>\n",
       "      <th>ORIGIN_AIRPORT</th>\n",
       "      <th>DESTINATION_AIRPORT</th>\n",
       "      <th>SCHEDULED_DEPARTURE</th>\n",
       "      <th>...</th>\n",
       "      <th>ARRIVAL_DELAY</th>\n",
       "      <th>DIVERTED</th>\n",
       "      <th>CANCELLED</th>\n",
       "      <th>CANCELLATION_REASON</th>\n",
       "      <th>AIR_SYSTEM_DELAY</th>\n",
       "      <th>SECURITY_DELAY</th>\n",
       "      <th>AIRLINE_DELAY</th>\n",
       "      <th>LATE_AIRCRAFT_DELAY</th>\n",
       "      <th>WEATHER_DELAY</th>\n",
       "      <th>DESC_DOW</th>\n",
       "    </tr>\n",
       "  </thead>\n",
       "  <tbody>\n",
       "    <tr>\n",
       "      <th>0</th>\n",
       "      <td>2015</td>\n",
       "      <td>1</td>\n",
       "      <td>1</td>\n",
       "      <td>4</td>\n",
       "      <td>AS</td>\n",
       "      <td>98</td>\n",
       "      <td>N407AS</td>\n",
       "      <td>ANC</td>\n",
       "      <td>SEA</td>\n",
       "      <td>5</td>\n",
       "      <td>...</td>\n",
       "      <td>-22.0</td>\n",
       "      <td>0</td>\n",
       "      <td>0</td>\n",
       "      <td>NaN</td>\n",
       "      <td>NaN</td>\n",
       "      <td>NaN</td>\n",
       "      <td>NaN</td>\n",
       "      <td>NaN</td>\n",
       "      <td>NaN</td>\n",
       "      <td>Thursday</td>\n",
       "    </tr>\n",
       "    <tr>\n",
       "      <th>1</th>\n",
       "      <td>2015</td>\n",
       "      <td>1</td>\n",
       "      <td>1</td>\n",
       "      <td>4</td>\n",
       "      <td>AA</td>\n",
       "      <td>2336</td>\n",
       "      <td>N3KUAA</td>\n",
       "      <td>LAX</td>\n",
       "      <td>PBI</td>\n",
       "      <td>10</td>\n",
       "      <td>...</td>\n",
       "      <td>-9.0</td>\n",
       "      <td>0</td>\n",
       "      <td>0</td>\n",
       "      <td>NaN</td>\n",
       "      <td>NaN</td>\n",
       "      <td>NaN</td>\n",
       "      <td>NaN</td>\n",
       "      <td>NaN</td>\n",
       "      <td>NaN</td>\n",
       "      <td>Thursday</td>\n",
       "    </tr>\n",
       "  </tbody>\n",
       "</table>\n",
       "<p>2 rows × 32 columns</p>\n",
       "</div>"
      ],
      "text/plain": [
       "   YEAR  MONTH  DAY  DAY_OF_WEEK AIRLINE  FLIGHT_NUMBER TAIL_NUMBER  \\\n",
       "0  2015      1    1            4      AS             98      N407AS   \n",
       "1  2015      1    1            4      AA           2336      N3KUAA   \n",
       "\n",
       "  ORIGIN_AIRPORT DESTINATION_AIRPORT  SCHEDULED_DEPARTURE    ...     \\\n",
       "0            ANC                 SEA                    5    ...      \n",
       "1            LAX                 PBI                   10    ...      \n",
       "\n",
       "   ARRIVAL_DELAY  DIVERTED  CANCELLED  CANCELLATION_REASON  AIR_SYSTEM_DELAY  \\\n",
       "0          -22.0         0          0                  NaN               NaN   \n",
       "1           -9.0         0          0                  NaN               NaN   \n",
       "\n",
       "   SECURITY_DELAY  AIRLINE_DELAY  LATE_AIRCRAFT_DELAY  WEATHER_DELAY  DESC_DOW  \n",
       "0             NaN            NaN                  NaN            NaN  Thursday  \n",
       "1             NaN            NaN                  NaN            NaN  Thursday  \n",
       "\n",
       "[2 rows x 32 columns]"
      ]
     },
     "execution_count": 10,
     "metadata": {},
     "output_type": "execute_result"
    }
   ],
   "source": [
    "day_of_week_desc={\n",
    "    1:'Monday',\n",
    "    2:'Tuesday',\n",
    "    3:'Wednesday',\n",
    "    4:'Thursday',\n",
    "    5:'Friday',\n",
    "    6:'Saturday',\n",
    "    7:'Sunday'\n",
    "}\n",
    "flights['DESC_DOW']=flights['DAY_OF_WEEK'].apply(lambda a:day_of_week_desc[a])\n",
    "flights.head(2)"
   ]
  },
  {
   "cell_type": "code",
   "execution_count": 11,
   "metadata": {
    "collapsed": false,
    "scrolled": true
   },
   "outputs": [],
   "source": [
    "airlines_dict = dict(zip(airlines['IATA_CODE'],airlines['AIRLINE']))\n",
    "airport_dict = dict(zip(airports['IATA_CODE'],airports['AIRPORT']))\n",
    "flights['DESC_AIRLINE'] = flights['AIRLINE'].apply(lambda x: airlines_dict[x])\n",
    "# flights.head()"
   ]
  },
  {
   "cell_type": "markdown",
   "metadata": {
    "collapsed": false
   },
   "source": [
    "A lot of airlines activity is given and the first question that pops up in our head is \n",
    "'Which airlines is the best?'\n",
    "So,let's create a ranking module for airlines.We will store the relevant information throughout the process.<br>\n",
    "Following are the factors that decide the rank of an airline.\n",
    "* Highest Ratio of (Operated flights)/(Scheduled flights)\n",
    "* Flight speed\n",
    "* Average arrival delay\n",
    "* Flight volume\n",
    "* Taxi In and Out Time\n",
    "\n",
    "I have not included avg. departure delay because usually it depends on the departure airport.\n",
    "###### Let's calculate the ratio of operated flights/scheduled flights for each airlines."
   ]
  },
  {
   "cell_type": "code",
   "execution_count": 12,
   "metadata": {
    "collapsed": false,
    "scrolled": false
   },
   "outputs": [
    {
     "data": {
      "text/html": [
       "<div>\n",
       "<table border=\"1\" class=\"dataframe\">\n",
       "  <thead>\n",
       "    <tr style=\"text-align: right;\">\n",
       "      <th></th>\n",
       "      <th>RATIO_OP_SCH</th>\n",
       "    </tr>\n",
       "    <tr>\n",
       "      <th>DESC_AIRLINE</th>\n",
       "      <th></th>\n",
       "    </tr>\n",
       "  </thead>\n",
       "  <tbody>\n",
       "    <tr>\n",
       "      <th>Alaska Airlines Inc.</th>\n",
       "      <td>0.993679</td>\n",
       "    </tr>\n",
       "    <tr>\n",
       "      <th>American Airlines Inc.</th>\n",
       "      <td>0.956184</td>\n",
       "    </tr>\n",
       "    <tr>\n",
       "      <th>American Eagle Airlines Inc.</th>\n",
       "      <td>0.891348</td>\n",
       "    </tr>\n",
       "    <tr>\n",
       "      <th>Atlantic Southeast Airlines</th>\n",
       "      <td>0.948191</td>\n",
       "    </tr>\n",
       "    <tr>\n",
       "      <th>Delta Air Lines Inc.</th>\n",
       "      <td>0.982541</td>\n",
       "    </tr>\n",
       "  </tbody>\n",
       "</table>\n",
       "</div>"
      ],
      "text/plain": [
       "                              RATIO_OP_SCH\n",
       "DESC_AIRLINE                              \n",
       "Alaska Airlines Inc.              0.993679\n",
       "American Airlines Inc.            0.956184\n",
       "American Eagle Airlines Inc.      0.891348\n",
       "Atlantic Southeast Airlines       0.948191\n",
       "Delta Air Lines Inc.              0.982541"
      ]
     },
     "execution_count": 12,
     "metadata": {},
     "output_type": "execute_result"
    }
   ],
   "source": [
    "# flights.CANCELLED.unique() #0,1\n",
    "#Each airline is either cancelled or operated.\n",
    "rank_airlines = pd.DataFrame(flights.groupby('DESC_AIRLINE').count()['SCHEDULED_DEPARTURE'])\n",
    "rank_airlines['CANCELLED']=flights.groupby('DESC_AIRLINE').sum()['CANCELLED']\n",
    "rank_airlines['OPERATED']=rank_airlines['SCHEDULED_DEPARTURE']-rank_airlines['CANCELLED']\n",
    "rank_airlines['RATIO_OP_SCH']=rank_airlines['OPERATED']/rank_airlines['SCHEDULED_DEPARTURE']\n",
    "rank_airlines.drop(rank_airlines.columns[[0,1,2]],axis=1,inplace=True)\n",
    "rank_airlines.head()"
   ]
  },
  {
   "cell_type": "code",
   "execution_count": 13,
   "metadata": {
    "collapsed": false,
    "scrolled": true
   },
   "outputs": [
    {
     "name": "stderr",
     "output_type": "stream",
     "text": [
      "/home/utkarsh/anaconda2/lib/python2.7/site-packages/ipykernel/__main__.py:1: FutureWarning: sort(columns=....) is deprecated, use sort_values(by=.....)\n",
      "  if __name__ == '__main__':\n"
     ]
    },
    {
     "data": {
      "text/plain": [
       "<matplotlib.text.Text at 0x7f3aaf393190>"
      ]
     },
     "execution_count": 13,
     "metadata": {},
     "output_type": "execute_result"
    },
    {
     "data": {
      "image/png": "[encoded data removed]",
      "text/plain": [
       "<matplotlib.figure.Figure at 0x7f3aaf973710>"
      ]
     },
     "metadata": {},
     "output_type": "display_data"
    }
   ],
   "source": [
    "rank_airlines.sort(['RATIO_OP_SCH'],ascending = 1,inplace=True)\n",
    "# rank_airlines.head()\n",
    "rank_airlines['RATIO_OP_SCH'].plot(kind='bar',figsize=(14,6),rot=45)\n",
    "plt.title('Ratio of Operated flights and Scheduled flights for each Airlines')"
   ]
  },
  {
   "cell_type": "code",
   "execution_count": 14,
   "metadata": {
    "collapsed": false
   },
   "outputs": [
    {
     "data": {
      "text/plain": [
       "<matplotlib.axes._subplots.AxesSubplot at 0x7f3aaf2c68d0>"
      ]
     },
     "execution_count": 14,
     "metadata": {},
     "output_type": "execute_result"
    },
    {
     "data": {
      "image/png": "[encoded data removed]",
      "text/plain": [
       "<matplotlib.figure.Figure at 0x7f3aaf303450>"
      ]
     },
     "metadata": {},
     "output_type": "display_data"
    }
   ],
   "source": [
    "flights['FLIGHT_SPEED'] = 60*flights['DISTANCE']/flights['AIR_TIME']\n",
    "rank_airlines['FLIGHT_SPEED'] = flights.groupby('DESC_AIRLINE')['FLIGHT_SPEED'].mean()\n",
    "# flights.groupby('DESC_AIRLINE')['FLIGHT_SPEED'].mean()\n",
    "flights[['DESC_AIRLINE','FLIGHT_SPEED']].boxplot(column = 'FLIGHT_SPEED',by='DESC_AIRLINE',figsize=(16,8),rot=45)\n",
    "# flights.groupby('DESC_AIRLINE')['FLIGHT_SPEED'].mean().plot(kind='box',figsize=(16,8),subplots=True,legend=True)\n",
    "# plt.title('Density plot of flight speed')\n",
    "# plt.xlabel('Speed in miles/hour')"
   ]
  },
  {
   "cell_type": "markdown",
   "metadata": {
    "collapsed": true
   },
   "source": [
    "The plot clearly shows that almost all the flights of any airline run at the speed of 350-450 miles/hour.\n",
    "We have also added this information in our ranking module dataframe for future reference."
   ]
  },
  {
   "cell_type": "code",
   "execution_count": 15,
   "metadata": {
    "collapsed": false
   },
   "outputs": [
    {
     "data": {
      "text/html": [
       "<div>\n",
       "<table border=\"1\" class=\"dataframe\">\n",
       "  <thead>\n",
       "    <tr style=\"text-align: right;\">\n",
       "      <th></th>\n",
       "      <th>RATIO_OP_SCH</th>\n",
       "      <th>FLIGHT_SPEED</th>\n",
       "    </tr>\n",
       "    <tr>\n",
       "      <th>DESC_AIRLINE</th>\n",
       "      <th></th>\n",
       "      <th></th>\n",
       "    </tr>\n",
       "  </thead>\n",
       "  <tbody>\n",
       "    <tr>\n",
       "      <th>American Eagle Airlines Inc.</th>\n",
       "      <td>0.891348</td>\n",
       "      <td>361.399800</td>\n",
       "    </tr>\n",
       "    <tr>\n",
       "      <th>Atlantic Southeast Airlines</th>\n",
       "      <td>0.948191</td>\n",
       "      <td>362.211990</td>\n",
       "    </tr>\n",
       "    <tr>\n",
       "      <th>JetBlue Airways</th>\n",
       "      <td>0.949303</td>\n",
       "      <td>416.897288</td>\n",
       "    </tr>\n",
       "    <tr>\n",
       "      <th>American Airlines Inc.</th>\n",
       "      <td>0.956184</td>\n",
       "      <td>431.353523</td>\n",
       "    </tr>\n",
       "    <tr>\n",
       "      <th>US Airways Inc.</th>\n",
       "      <td>0.961097</td>\n",
       "      <td>408.499482</td>\n",
       "    </tr>\n",
       "  </tbody>\n",
       "</table>\n",
       "</div>"
      ],
      "text/plain": [
       "                              RATIO_OP_SCH  FLIGHT_SPEED\n",
       "DESC_AIRLINE                                            \n",
       "American Eagle Airlines Inc.      0.891348    361.399800\n",
       "Atlantic Southeast Airlines       0.948191    362.211990\n",
       "JetBlue Airways                   0.949303    416.897288\n",
       "American Airlines Inc.            0.956184    431.353523\n",
       "US Airways Inc.                   0.961097    408.499482"
      ]
     },
     "execution_count": 15,
     "metadata": {},
     "output_type": "execute_result"
    }
   ],
   "source": [
    "rank_airlines.head()"
   ]
  },
  {
   "cell_type": "markdown",
   "metadata": {},
   "source": [
    "### Now, let's find the average delay for a particular airline. Both arrival delay and departure delay are in minutes."
   ]
  },
  {
   "cell_type": "code",
   "execution_count": 16,
   "metadata": {
    "collapsed": false
   },
   "outputs": [
    {
     "data": {
      "text/html": [
       "<div>\n",
       "<table border=\"1\" class=\"dataframe\">\n",
       "  <thead>\n",
       "    <tr style=\"text-align: right;\">\n",
       "      <th></th>\n",
       "      <th>RATIO_OP_SCH</th>\n",
       "      <th>FLIGHT_SPEED</th>\n",
       "      <th>ARRIVAL_DELAY</th>\n",
       "    </tr>\n",
       "    <tr>\n",
       "      <th>DESC_AIRLINE</th>\n",
       "      <th></th>\n",
       "      <th></th>\n",
       "      <th></th>\n",
       "    </tr>\n",
       "  </thead>\n",
       "  <tbody>\n",
       "    <tr>\n",
       "      <th>American Eagle Airlines Inc.</th>\n",
       "      <td>0.891348</td>\n",
       "      <td>361.399800</td>\n",
       "      <td>0.313304</td>\n",
       "    </tr>\n",
       "    <tr>\n",
       "      <th>Atlantic Southeast Airlines</th>\n",
       "      <td>0.948191</td>\n",
       "      <td>362.211990</td>\n",
       "      <td>0.159790</td>\n",
       "    </tr>\n",
       "    <tr>\n",
       "      <th>JetBlue Airways</th>\n",
       "      <td>0.949303</td>\n",
       "      <td>416.897288</td>\n",
       "      <td>0.211907</td>\n",
       "    </tr>\n",
       "    <tr>\n",
       "      <th>American Airlines Inc.</th>\n",
       "      <td>0.956184</td>\n",
       "      <td>431.353523</td>\n",
       "      <td>0.128825</td>\n",
       "    </tr>\n",
       "    <tr>\n",
       "      <th>US Airways Inc.</th>\n",
       "      <td>0.961097</td>\n",
       "      <td>408.499482</td>\n",
       "      <td>0.083134</td>\n",
       "    </tr>\n",
       "  </tbody>\n",
       "</table>\n",
       "</div>"
      ],
      "text/plain": [
       "                              RATIO_OP_SCH  FLIGHT_SPEED  ARRIVAL_DELAY\n",
       "DESC_AIRLINE                                                           \n",
       "American Eagle Airlines Inc.      0.891348    361.399800       0.313304\n",
       "Atlantic Southeast Airlines       0.948191    362.211990       0.159790\n",
       "JetBlue Airways                   0.949303    416.897288       0.211907\n",
       "American Airlines Inc.            0.956184    431.353523       0.128825\n",
       "US Airways Inc.                   0.961097    408.499482       0.083134"
      ]
     },
     "execution_count": 16,
     "metadata": {},
     "output_type": "execute_result"
    }
   ],
   "source": [
    "flights.groupby('DESC_AIRLINE')[['ARRIVAL_DELAY','DEPARTURE_DELAY']].mean()\n",
    "#Let's add arrival delay to our ranking module as well.\n",
    "rank_airlines['ARRIVAL_DELAY']= flights.groupby('DESC_AIRLINE')['ARRIVAL_DELAY'].mean()\n",
    "#As our flight speed is in miles/hour,it's probably best to keep ARRIVAL DELAY in hours.\n",
    "rank_airlines['ARRIVAL_DELAY']=rank_airlines['ARRIVAL_DELAY'].apply(lambda x:x/60)\n",
    "rank_airlines.head()"
   ]
  },
  {
   "cell_type": "markdown",
   "metadata": {},
   "source": [
    "Meanwhile,let's take a look at the plot of arrival and departure delay for better understanding about airlines and airports."
   ]
  },
  {
   "cell_type": "code",
   "execution_count": 17,
   "metadata": {
    "collapsed": false
   },
   "outputs": [
    {
     "name": "stderr",
     "output_type": "stream",
     "text": [
      "/home/utkarsh/anaconda2/lib/python2.7/site-packages/ipykernel/__main__.py:2: FutureWarning: sort(columns=....) is deprecated, use sort_values(by=.....)\n",
      "  from ipykernel import kernelapp as app\n"
     ]
    },
    {
     "data": {
      "text/plain": [
       "[<matplotlib.text.Text at 0x7f3aaeda17d0>]"
      ]
     },
     "execution_count": 17,
     "metadata": {},
     "output_type": "execute_result"
    },
    {
     "data": {
      "image/png": "[encoded data removed]",
      "text/plain": [
       "<matplotlib.figure.Figure at 0x7f3aaf324c10>"
      ]
     },
     "metadata": {},
     "output_type": "display_data"
    }
   ],
   "source": [
    "df_delay = pd.DataFrame(flights.groupby('DESC_AIRLINE')[['ARRIVAL_DELAY','DEPARTURE_DELAY']].mean())\n",
    "df_delay.sort(['ARRIVAL_DELAY','DEPARTURE_DELAY'],ascending = [1,1],inplace=True)\n",
    "plt.figure(figsize=(16, 8))\n",
    "sns.set_color_codes(\"deep\")\n",
    "sns.set_context(font_scale=2.5)\n",
    "plot = sns.barplot(x='DEPARTURE_DELAY',y=df_delay.index,data = df_delay,color = 'y')\n",
    "plot = sns.barplot(x='ARRIVAL_DELAY',y=df_delay.index,data = df_delay,color = 'g')\n",
    "plot.set(xlabel='Mean flight delays (Arrival : Green,Departure : Yellow)')"
   ]
  },
  {
   "cell_type": "markdown",
   "metadata": {},
   "source": [
    "As we can see, almost all the airlines have arrival delays greater than departure delays, which is logical as the departure delays are mostly due to late arrival, security reasons etc. Departure delays mostly depend upon the airport. We can keep this in mind while creating the module for ranking of airports.<br>\n",
    "*One **important** thing to note is that Alaska Airlines has a negative arrival delay which means it arrives before scheduled time on an average.*"
   ]
  },
  {
   "cell_type": "markdown",
   "metadata": {},
   "source": [
    "Now,let's look at the flight volume of each airline."
   ]
  },
  {
   "cell_type": "code",
   "execution_count": 18,
   "metadata": {
    "collapsed": false,
    "scrolled": true
   },
   "outputs": [
    {
     "data": {
      "text/html": [
       "<div>\n",
       "<table border=\"1\" class=\"dataframe\">\n",
       "  <thead>\n",
       "    <tr style=\"text-align: right;\">\n",
       "      <th></th>\n",
       "      <th>RATIO_OP_SCH</th>\n",
       "      <th>FLIGHT_SPEED</th>\n",
       "      <th>ARRIVAL_DELAY</th>\n",
       "      <th>FLIGHTS_VOLUME</th>\n",
       "    </tr>\n",
       "    <tr>\n",
       "      <th>DESC_AIRLINE</th>\n",
       "      <th></th>\n",
       "      <th></th>\n",
       "      <th></th>\n",
       "      <th></th>\n",
       "    </tr>\n",
       "  </thead>\n",
       "  <tbody>\n",
       "    <tr>\n",
       "      <th>American Eagle Airlines Inc.</th>\n",
       "      <td>0.891348</td>\n",
       "      <td>361.399800</td>\n",
       "      <td>0.313304</td>\n",
       "      <td>0.061731</td>\n",
       "    </tr>\n",
       "    <tr>\n",
       "      <th>Atlantic Southeast Airlines</th>\n",
       "      <td>0.948191</td>\n",
       "      <td>362.211990</td>\n",
       "      <td>0.159790</td>\n",
       "      <td>0.106225</td>\n",
       "    </tr>\n",
       "    <tr>\n",
       "      <th>JetBlue Airways</th>\n",
       "      <td>0.949303</td>\n",
       "      <td>416.897288</td>\n",
       "      <td>0.211907</td>\n",
       "      <td>0.045778</td>\n",
       "    </tr>\n",
       "    <tr>\n",
       "      <th>American Airlines Inc.</th>\n",
       "      <td>0.956184</td>\n",
       "      <td>431.353523</td>\n",
       "      <td>0.128825</td>\n",
       "      <td>0.092815</td>\n",
       "    </tr>\n",
       "    <tr>\n",
       "      <th>US Airways Inc.</th>\n",
       "      <td>0.961097</td>\n",
       "      <td>408.499482</td>\n",
       "      <td>0.083134</td>\n",
       "      <td>0.070302</td>\n",
       "    </tr>\n",
       "  </tbody>\n",
       "</table>\n",
       "</div>"
      ],
      "text/plain": [
       "                              RATIO_OP_SCH  FLIGHT_SPEED  ARRIVAL_DELAY  \\\n",
       "DESC_AIRLINE                                                              \n",
       "American Eagle Airlines Inc.      0.891348    361.399800       0.313304   \n",
       "Atlantic Southeast Airlines       0.948191    362.211990       0.159790   \n",
       "JetBlue Airways                   0.949303    416.897288       0.211907   \n",
       "American Airlines Inc.            0.956184    431.353523       0.128825   \n",
       "US Airways Inc.                   0.961097    408.499482       0.083134   \n",
       "\n",
       "                              FLIGHTS_VOLUME  \n",
       "DESC_AIRLINE                                  \n",
       "American Eagle Airlines Inc.        0.061731  \n",
       "Atlantic Southeast Airlines         0.106225  \n",
       "JetBlue Airways                     0.045778  \n",
       "American Airlines Inc.              0.092815  \n",
       "US Airways Inc.                     0.070302  "
      ]
     },
     "execution_count": 18,
     "metadata": {},
     "output_type": "execute_result"
    }
   ],
   "source": [
    "rank_airlines['FLIGHTS_VOLUME'] = flights.groupby('DESC_AIRLINE')['FLIGHT_NUMBER'].count()\n",
    "#Let's change it into ratio of flight_vol/total flight_vol\n",
    "total = rank_airlines['FLIGHTS_VOLUME'].sum()\n",
    "rank_airlines['FLIGHTS_VOLUME'] = rank_airlines['FLIGHTS_VOLUME'].apply(lambda x:(x/float(total)))\n",
    "rank_airlines.head()"
   ]
  },
  {
   "cell_type": "code",
   "execution_count": 19,
   "metadata": {
    "collapsed": false
   },
   "outputs": [
    {
     "data": {
      "text/plain": [
       "<matplotlib.text.Text at 0x7f3aaeb868d0>"
      ]
     },
     "execution_count": 19,
     "metadata": {},
     "output_type": "execute_result"
    },
    {
     "data": {
      "image/png": "[encoded data removed]",
      "text/plain": [
       "<matplotlib.figure.Figure at 0x7f3aaf3d0e50>"
      ]
     },
     "metadata": {},
     "output_type": "display_data"
    }
   ],
   "source": [
    "flights.groupby('DESC_AIRLINE')['FLIGHT_NUMBER'].count().plot.pie(figsize=(10,10),rot=45)\n",
    "plt.ylabel('')"
   ]
  },
  {
   "cell_type": "markdown",
   "metadata": {},
   "source": [
    "Now,let's consider taxi in and out time as well.<br>\n",
    "**TAXI_OUT Time** - The time duration elapsed between departure from the origin airport gate and wheels off.<br>\n",
    "**TAXI_IN Time** - The time duration elapsed between wheels-on and gate arrival at the destination airport."
   ]
  },
  {
   "cell_type": "code",
   "execution_count": 20,
   "metadata": {
    "collapsed": false
   },
   "outputs": [
    {
     "data": {
      "text/html": [
       "<div>\n",
       "<table border=\"1\" class=\"dataframe\">\n",
       "  <thead>\n",
       "    <tr style=\"text-align: right;\">\n",
       "      <th></th>\n",
       "      <th>RATIO_OP_SCH</th>\n",
       "      <th>FLIGHT_SPEED</th>\n",
       "      <th>ARRIVAL_DELAY</th>\n",
       "      <th>FLIGHTS_VOLUME</th>\n",
       "      <th>TAXI_IN</th>\n",
       "      <th>TAXI_OUT</th>\n",
       "    </tr>\n",
       "    <tr>\n",
       "      <th>DESC_AIRLINE</th>\n",
       "      <th></th>\n",
       "      <th></th>\n",
       "      <th></th>\n",
       "      <th></th>\n",
       "      <th></th>\n",
       "      <th></th>\n",
       "    </tr>\n",
       "  </thead>\n",
       "  <tbody>\n",
       "    <tr>\n",
       "      <th>American Eagle Airlines Inc.</th>\n",
       "      <td>0.891348</td>\n",
       "      <td>361.399800</td>\n",
       "      <td>0.313304</td>\n",
       "      <td>0.061731</td>\n",
       "      <td>0.172513</td>\n",
       "      <td>0.296456</td>\n",
       "    </tr>\n",
       "    <tr>\n",
       "      <th>Atlantic Southeast Airlines</th>\n",
       "      <td>0.948191</td>\n",
       "      <td>362.211990</td>\n",
       "      <td>0.159790</td>\n",
       "      <td>0.106225</td>\n",
       "      <td>0.128935</td>\n",
       "      <td>0.288066</td>\n",
       "    </tr>\n",
       "    <tr>\n",
       "      <th>JetBlue Airways</th>\n",
       "      <td>0.949303</td>\n",
       "      <td>416.897288</td>\n",
       "      <td>0.211907</td>\n",
       "      <td>0.045778</td>\n",
       "      <td>0.107482</td>\n",
       "      <td>0.313940</td>\n",
       "    </tr>\n",
       "    <tr>\n",
       "      <th>American Airlines Inc.</th>\n",
       "      <td>0.956184</td>\n",
       "      <td>431.353523</td>\n",
       "      <td>0.128825</td>\n",
       "      <td>0.092815</td>\n",
       "      <td>0.151267</td>\n",
       "      <td>0.286410</td>\n",
       "    </tr>\n",
       "    <tr>\n",
       "      <th>US Airways Inc.</th>\n",
       "      <td>0.961097</td>\n",
       "      <td>408.499482</td>\n",
       "      <td>0.083134</td>\n",
       "      <td>0.070302</td>\n",
       "      <td>0.124965</td>\n",
       "      <td>0.323354</td>\n",
       "    </tr>\n",
       "  </tbody>\n",
       "</table>\n",
       "</div>"
      ],
      "text/plain": [
       "                              RATIO_OP_SCH  FLIGHT_SPEED  ARRIVAL_DELAY  \\\n",
       "DESC_AIRLINE                                                              \n",
       "American Eagle Airlines Inc.      0.891348    361.399800       0.313304   \n",
       "Atlantic Southeast Airlines       0.948191    362.211990       0.159790   \n",
       "JetBlue Airways                   0.949303    416.897288       0.211907   \n",
       "American Airlines Inc.            0.956184    431.353523       0.128825   \n",
       "US Airways Inc.                   0.961097    408.499482       0.083134   \n",
       "\n",
       "                              FLIGHTS_VOLUME   TAXI_IN  TAXI_OUT  \n",
       "DESC_AIRLINE                                                      \n",
       "American Eagle Airlines Inc.        0.061731  0.172513  0.296456  \n",
       "Atlantic Southeast Airlines         0.106225  0.128935  0.288066  \n",
       "JetBlue Airways                     0.045778  0.107482  0.313940  \n",
       "American Airlines Inc.              0.092815  0.151267  0.286410  \n",
       "US Airways Inc.                     0.070302  0.124965  0.323354  "
      ]
     },
     "execution_count": 20,
     "metadata": {},
     "output_type": "execute_result"
    }
   ],
   "source": [
    "rank_airlines[['TAXI_IN','TAXI_OUT']] = flights.groupby('DESC_AIRLINE')[['TAXI_IN','TAXI_OUT']].mean()\n",
    "#Taxi in and out time are in minutes.Let's change them to hours.\n",
    "# rank_airlines[['TAXI_IN','TAXI_OUT']] = rank_airlines[['TAXI_IN','TAXI_OUT']].apply(lambda x, y : (x/float(60),y/float(60)))\n",
    "rank_airlines['TAXI_IN'] = rank_airlines['TAXI_IN'].apply(lambda x:(x/float(60)))\n",
    "rank_airlines['TAXI_OUT'] = rank_airlines['TAXI_OUT'].apply(lambda x:(x/float(60)))\n",
    "rank_airlines.head()"
   ]
  },
  {
   "cell_type": "code",
   "execution_count": 21,
   "metadata": {
    "collapsed": false,
    "scrolled": true
   },
   "outputs": [
    {
     "data": {
      "text/plain": [
       "[<matplotlib.text.Text at 0x7f3aadbefd50>]"
      ]
     },
     "execution_count": 21,
     "metadata": {},
     "output_type": "execute_result"
    },
    {
     "data": {
      "image/png": "[encoded data removed]",
      "text/plain": [
       "<matplotlib.figure.Figure at 0x7f3aaeb66710>"
      ]
     },
     "metadata": {},
     "output_type": "display_data"
    }
   ],
   "source": [
    "plt.figure(figsize=(16, 8))\n",
    "sns.set_color_codes(\"deep\")\n",
    "sns.set_context(font_scale=2.5)\n",
    "plot = sns.barplot(x='TAXI_OUT',y=rank_airlines.index,data = rank_airlines,color = 'crimson')\n",
    "plot = sns.barplot(x='TAXI_IN',y=rank_airlines.index,data = rank_airlines,color = 'cyan')\n",
    "plot.set(xlabel='Mean taxi out and in time (Taxi Out : Green,Taxi In : Yellow)')"
   ]
  },
  {
   "cell_type": "markdown",
   "metadata": {},
   "source": [
    "Now,let's find the rank of a particular airline.<br>\n",
    "We have 5 variables which decide a score.\n",
    "The score is proportional to a subset (a) of the variables whereas being inversely proportional to a different subset (b) of the variables.<br>\n",
    "The most naive way to capture this information is through the following formula.<br>\n",
    "\n",
    "**Score_airline = a/(1+b)**, where<br>\n",
    "        a = (RATIO_OP_SCH) \\* (FLIGHT_SPEED) \\* (FLIGHTS_VOLUME)<br>\n",
    "        and <br>\n",
    "        b = (ARRIVAL_DELAY) \\* (TAXI_IN) \\* (TAXI_OUT)<br>\n",
    "        \n",
    "A higher score indicates a better rank."
   ]
  },
  {
   "cell_type": "code",
   "execution_count": 84,
   "metadata": {
    "collapsed": false,
    "scrolled": true
   },
   "outputs": [
    {
     "name": "stderr",
     "output_type": "stream",
     "text": [
      "/home/utkarsh/anaconda2/lib/python2.7/site-packages/ipykernel/__main__.py:7: FutureWarning: sort(columns=....) is deprecated, use sort_values(by=.....)\n"
     ]
    },
    {
     "data": {
      "text/html": [
       "<div>\n",
       "<table border=\"1\" class=\"dataframe\">\n",
       "  <thead>\n",
       "    <tr style=\"text-align: right;\">\n",
       "      <th></th>\n",
       "      <th>RATIO_OP_SCH</th>\n",
       "      <th>FLIGHT_SPEED</th>\n",
       "      <th>ARRIVAL_DELAY</th>\n",
       "      <th>FLIGHTS_VOLUME</th>\n",
       "      <th>TAXI_IN</th>\n",
       "      <th>TAXI_OUT</th>\n",
       "      <th>SCORE</th>\n",
       "    </tr>\n",
       "    <tr>\n",
       "      <th>DESC_AIRLINE</th>\n",
       "      <th></th>\n",
       "      <th></th>\n",
       "      <th></th>\n",
       "      <th></th>\n",
       "      <th></th>\n",
       "      <th></th>\n",
       "      <th></th>\n",
       "    </tr>\n",
       "  </thead>\n",
       "  <tbody>\n",
       "    <tr>\n",
       "      <th>Southwest Airlines Co.</th>\n",
       "      <td>1.765798</td>\n",
       "      <td>1.667312</td>\n",
       "      <td>1.149867</td>\n",
       "      <td>2.000000</td>\n",
       "      <td>1.008668</td>\n",
       "      <td>1.147557</td>\n",
       "      <td>2.526097</td>\n",
       "    </tr>\n",
       "    <tr>\n",
       "      <th>Alaska Airlines Inc.</th>\n",
       "      <td>1.964054</td>\n",
       "      <td>1.881852</td>\n",
       "      <td>1.000000</td>\n",
       "      <td>1.090949</td>\n",
       "      <td>1.000000</td>\n",
       "      <td>1.489835</td>\n",
       "      <td>1.619470</td>\n",
       "    </tr>\n",
       "    <tr>\n",
       "      <th>Delta Air Lines Inc.</th>\n",
       "      <td>1.859127</td>\n",
       "      <td>1.735663</td>\n",
       "      <td>1.104521</td>\n",
       "      <td>1.649289</td>\n",
       "      <td>1.332188</td>\n",
       "      <td>1.894813</td>\n",
       "      <td>1.404920</td>\n",
       "    </tr>\n",
       "    <tr>\n",
       "      <th>United Air Lines Inc.</th>\n",
       "      <td>1.787184</td>\n",
       "      <td>2.000000</td>\n",
       "      <td>1.287446</td>\n",
       "      <td>1.365741</td>\n",
       "      <td>1.632914</td>\n",
       "      <td>1.775149</td>\n",
       "      <td>1.031655</td>\n",
       "    </tr>\n",
       "    <tr>\n",
       "      <th>Virgin America</th>\n",
       "      <td>1.794203</td>\n",
       "      <td>1.920500</td>\n",
       "      <td>1.216547</td>\n",
       "      <td>1.000000</td>\n",
       "      <td>1.517517</td>\n",
       "      <td>1.417649</td>\n",
       "      <td>0.952615</td>\n",
       "    </tr>\n",
       "  </tbody>\n",
       "</table>\n",
       "</div>"
      ],
      "text/plain": [
       "                        RATIO_OP_SCH  FLIGHT_SPEED  ARRIVAL_DELAY  \\\n",
       "DESC_AIRLINE                                                        \n",
       "Southwest Airlines Co.      1.765798      1.667312       1.149867   \n",
       "Alaska Airlines Inc.        1.964054      1.881852       1.000000   \n",
       "Delta Air Lines Inc.        1.859127      1.735663       1.104521   \n",
       "United Air Lines Inc.       1.787184      2.000000       1.287446   \n",
       "Virgin America              1.794203      1.920500       1.216547   \n",
       "\n",
       "                        FLIGHTS_VOLUME   TAXI_IN  TAXI_OUT     SCORE  \n",
       "DESC_AIRLINE                                                          \n",
       "Southwest Airlines Co.        2.000000  1.008668  1.147557  2.526097  \n",
       "Alaska Airlines Inc.          1.090949  1.000000  1.489835  1.619470  \n",
       "Delta Air Lines Inc.          1.649289  1.332188  1.894813  1.404920  \n",
       "United Air Lines Inc.         1.365741  1.632914  1.775149  1.031655  \n",
       "Virgin America                1.000000  1.517517  1.417649  0.952615  "
      ]
     },
     "execution_count": 84,
     "metadata": {},
     "output_type": "execute_result"
    }
   ],
   "source": [
    "# I have scaled the data to 1-2\n",
    "for i in rank_airlines.columns:\n",
    "    rank_airlines[i] = ((rank_airlines[i]-rank_airlines[i].min())/(rank_airlines[i].max()-rank_airlines[i].min()))+1\n",
    "a = rank_airlines.RATIO_OP_SCH*rank_airlines.FLIGHT_SPEED*rank_airlines.FLIGHTS_VOLUME\n",
    "b = rank_airlines.ARRIVAL_DELAY*rank_airlines.TAXI_IN*rank_airlines.TAXI_OUT\n",
    "rank_airlines['SCORE'] = a/(1+b)\n",
    "rank_airlines.sort(['SCORE'],ascending=False,inplace=True)\n",
    "rank_airlines.head()"
   ]
  },
  {
   "cell_type": "markdown",
   "metadata": {},
   "source": [
    "In our earlier plots, we noticed the highest flight volume for Southwest Airlines and negative arrival delay for Alaska Airlines. Hence, it's no surprise that these two airlines grab the top spots. "
   ]
  },
  {
   "cell_type": "markdown",
   "metadata": {},
   "source": [
    "# Insights\n",
    "## Most busy day."
   ]
  },
  {
   "cell_type": "code",
   "execution_count": 24,
   "metadata": {
    "collapsed": false,
    "scrolled": true
   },
   "outputs": [
    {
     "name": "stderr",
     "output_type": "stream",
     "text": [
      "/home/utkarsh/anaconda2/lib/python2.7/site-packages/ipykernel/__main__.py:2: FutureWarning: sort(columns=....) is deprecated, use sort_values(by=.....)\n",
      "  from ipykernel import kernelapp as app\n"
     ]
    },
    {
     "data": {
      "text/plain": [
       "<matplotlib.text.Text at 0x7f3aad9b4d50>"
      ]
     },
     "execution_count": 24,
     "metadata": {},
     "output_type": "execute_result"
    },
    {
     "data": {
      "image/png": "[encoded data removed]",
      "text/plain": [
       "<matplotlib.figure.Figure at 0x7f3aada99210>"
      ]
     },
     "metadata": {},
     "output_type": "display_data"
    }
   ],
   "source": [
    "df_busyday = pd.DataFrame(flights.groupby('DESC_DOW').count()['SCHEDULED_DEPARTURE'])\n",
    "df_busyday = df_busyday.sort(['SCHEDULED_DEPARTURE'],ascending = 1)\n",
    "df_busyday.head()\n",
    "df_busyday.plot(kind='line',subplots=True,c='r',figsize=(12,6),legend=True)\n",
    "plt.title('Number of Scheduled flights per day')\n"
   ]
  },
  {
   "cell_type": "markdown",
   "metadata": {},
   "source": [
    "The most busy day comes out to be FRIDAY.\n",
    "One of the reasons of this outcome can be associated with Saturday and Sunday,being holidays which allows people\n",
    "to travel on Friday."
   ]
  },
  {
   "cell_type": "markdown",
   "metadata": {},
   "source": [
    "## Daily flight volume of every airline"
   ]
  },
  {
   "cell_type": "code",
   "execution_count": 25,
   "metadata": {
    "collapsed": false,
    "scrolled": true
   },
   "outputs": [
    {
     "data": {
      "text/html": [
       "<div>\n",
       "<table border=\"1\" class=\"dataframe\">\n",
       "  <thead>\n",
       "    <tr style=\"text-align: right;\">\n",
       "      <th>DESC_AIRLINE</th>\n",
       "      <th>Alaska Airlines Inc.</th>\n",
       "      <th>American Airlines Inc.</th>\n",
       "      <th>American Eagle Airlines Inc.</th>\n",
       "      <th>Atlantic Southeast Airlines</th>\n",
       "      <th>Delta Air Lines Inc.</th>\n",
       "      <th>Frontier Airlines Inc.</th>\n",
       "      <th>Hawaiian Airlines Inc.</th>\n",
       "      <th>JetBlue Airways</th>\n",
       "      <th>Skywest Airlines Inc.</th>\n",
       "      <th>Southwest Airlines Co.</th>\n",
       "      <th>Spirit Air Lines</th>\n",
       "      <th>US Airways Inc.</th>\n",
       "      <th>United Air Lines Inc.</th>\n",
       "      <th>Virgin America</th>\n",
       "    </tr>\n",
       "    <tr>\n",
       "      <th>DESC_DOW</th>\n",
       "      <th></th>\n",
       "      <th></th>\n",
       "      <th></th>\n",
       "      <th></th>\n",
       "      <th></th>\n",
       "      <th></th>\n",
       "      <th></th>\n",
       "      <th></th>\n",
       "      <th></th>\n",
       "      <th></th>\n",
       "      <th></th>\n",
       "      <th></th>\n",
       "      <th></th>\n",
       "      <th></th>\n",
       "    </tr>\n",
       "  </thead>\n",
       "  <tbody>\n",
       "    <tr>\n",
       "      <th>Friday</th>\n",
       "      <td>5000</td>\n",
       "      <td>16191</td>\n",
       "      <td>10972</td>\n",
       "      <td>19595</td>\n",
       "      <td>25885</td>\n",
       "      <td>2536</td>\n",
       "      <td>2442</td>\n",
       "      <td>8029</td>\n",
       "      <td>18261</td>\n",
       "      <td>37732</td>\n",
       "      <td>3224</td>\n",
       "      <td>12860</td>\n",
       "      <td>15515</td>\n",
       "      <td>1856</td>\n",
       "    </tr>\n",
       "    <tr>\n",
       "      <th>Monday</th>\n",
       "      <td>4887</td>\n",
       "      <td>16151</td>\n",
       "      <td>10930</td>\n",
       "      <td>19503</td>\n",
       "      <td>25900</td>\n",
       "      <td>2569</td>\n",
       "      <td>2274</td>\n",
       "      <td>8026</td>\n",
       "      <td>18199</td>\n",
       "      <td>37954</td>\n",
       "      <td>3186</td>\n",
       "      <td>12235</td>\n",
       "      <td>15333</td>\n",
       "      <td>1797</td>\n",
       "    </tr>\n",
       "    <tr>\n",
       "      <th>Saturday</th>\n",
       "      <td>4606</td>\n",
       "      <td>14794</td>\n",
       "      <td>8642</td>\n",
       "      <td>13757</td>\n",
       "      <td>18786</td>\n",
       "      <td>1783</td>\n",
       "      <td>2196</td>\n",
       "      <td>7161</td>\n",
       "      <td>14818</td>\n",
       "      <td>31103</td>\n",
       "      <td>3180</td>\n",
       "      <td>10215</td>\n",
       "      <td>11103</td>\n",
       "      <td>1260</td>\n",
       "    </tr>\n",
       "    <tr>\n",
       "      <th>Sunday</th>\n",
       "      <td>4869</td>\n",
       "      <td>15942</td>\n",
       "      <td>10545</td>\n",
       "      <td>17119</td>\n",
       "      <td>23267</td>\n",
       "      <td>2474</td>\n",
       "      <td>2244</td>\n",
       "      <td>7959</td>\n",
       "      <td>17205</td>\n",
       "      <td>33309</td>\n",
       "      <td>3196</td>\n",
       "      <td>11650</td>\n",
       "      <td>13339</td>\n",
       "      <td>1720</td>\n",
       "    </tr>\n",
       "    <tr>\n",
       "      <th>Thursday</th>\n",
       "      <td>4936</td>\n",
       "      <td>16066</td>\n",
       "      <td>10851</td>\n",
       "      <td>19027</td>\n",
       "      <td>25043</td>\n",
       "      <td>2491</td>\n",
       "      <td>2283</td>\n",
       "      <td>8022</td>\n",
       "      <td>17940</td>\n",
       "      <td>37005</td>\n",
       "      <td>3168</td>\n",
       "      <td>12723</td>\n",
       "      <td>15425</td>\n",
       "      <td>1797</td>\n",
       "    </tr>\n",
       "  </tbody>\n",
       "</table>\n",
       "</div>"
      ],
      "text/plain": [
       "DESC_AIRLINE  Alaska Airlines Inc.  American Airlines Inc.  \\\n",
       "DESC_DOW                                                     \n",
       "Friday                        5000                   16191   \n",
       "Monday                        4887                   16151   \n",
       "Saturday                      4606                   14794   \n",
       "Sunday                        4869                   15942   \n",
       "Thursday                      4936                   16066   \n",
       "\n",
       "DESC_AIRLINE  American Eagle Airlines Inc.  Atlantic Southeast Airlines  \\\n",
       "DESC_DOW                                                                  \n",
       "Friday                               10972                        19595   \n",
       "Monday                               10930                        19503   \n",
       "Saturday                              8642                        13757   \n",
       "Sunday                               10545                        17119   \n",
       "Thursday                             10851                        19027   \n",
       "\n",
       "DESC_AIRLINE  Delta Air Lines Inc.  Frontier Airlines Inc.  \\\n",
       "DESC_DOW                                                     \n",
       "Friday                       25885                    2536   \n",
       "Monday                       25900                    2569   \n",
       "Saturday                     18786                    1783   \n",
       "Sunday                       23267                    2474   \n",
       "Thursday                     25043                    2491   \n",
       "\n",
       "DESC_AIRLINE  Hawaiian Airlines Inc.  JetBlue Airways  Skywest Airlines Inc.  \\\n",
       "DESC_DOW                                                                       \n",
       "Friday                          2442             8029                  18261   \n",
       "Monday                          2274             8026                  18199   \n",
       "Saturday                        2196             7161                  14818   \n",
       "Sunday                          2244             7959                  17205   \n",
       "Thursday                        2283             8022                  17940   \n",
       "\n",
       "DESC_AIRLINE  Southwest Airlines Co.  Spirit Air Lines  US Airways Inc.  \\\n",
       "DESC_DOW                                                                  \n",
       "Friday                         37732              3224            12860   \n",
       "Monday                         37954              3186            12235   \n",
       "Saturday                       31103              3180            10215   \n",
       "Sunday                         33309              3196            11650   \n",
       "Thursday                       37005              3168            12723   \n",
       "\n",
       "DESC_AIRLINE  United Air Lines Inc.  Virgin America  \n",
       "DESC_DOW                                             \n",
       "Friday                        15515            1856  \n",
       "Monday                        15333            1797  \n",
       "Saturday                      11103            1260  \n",
       "Sunday                        13339            1720  \n",
       "Thursday                      15425            1797  "
      ]
     },
     "execution_count": 25,
     "metadata": {},
     "output_type": "execute_result"
    }
   ],
   "source": [
    "flight_volume_airline_day = flights.pivot_table(index=\"DESC_DOW\",columns=\"DESC_AIRLINE\",values=\"SCHEDULED_DEPARTURE\",aggfunc=lambda x:x.count())\n",
    "flight_volume_airline_day.head()"
   ]
  },
  {
   "cell_type": "code",
   "execution_count": 26,
   "metadata": {
    "collapsed": false
   },
   "outputs": [
    {
     "data": {
      "text/plain": [
       "(array([  0.5,   1.5,   2.5,   3.5,   4.5,   5.5,   6.5,   7.5,   8.5,\n",
       "          9.5,  10.5,  11.5,  12.5,  13.5]),\n",
       " <a list of 14 Text xticklabel objects>)"
      ]
     },
     "execution_count": 26,
     "metadata": {},
     "output_type": "execute_result"
    },
    {
     "data": {
      "image/png": "[encoded data removed]",
      "text/plain": [
       "<matplotlib.figure.Figure at 0x7f3aada29ad0>"
      ]
     },
     "metadata": {},
     "output_type": "display_data"
    }
   ],
   "source": [
    "fig = plt.figure(figsize=(16,10))\n",
    "sns.heatmap(flight_volume_airline_day, linecolor=\"w\", linewidths=1)\n",
    "plt.xticks(rotation=45)"
   ]
  },
  {
   "cell_type": "markdown",
   "metadata": {},
   "source": [
    "## Trend of flight cancellations"
   ]
  },
  {
   "cell_type": "code",
   "execution_count": 27,
   "metadata": {
    "collapsed": false,
    "scrolled": true
   },
   "outputs": [
    {
     "name": "stderr",
     "output_type": "stream",
     "text": [
      "/home/utkarsh/anaconda2/lib/python2.7/site-packages/ipykernel/__main__.py:2: FutureWarning: sort(columns=....) is deprecated, use sort_values(by=.....)\n",
      "  from ipykernel import kernelapp as app\n"
     ]
    },
    {
     "data": {
      "text/plain": [
       "<matplotlib.text.Text at 0x7f3aa3954890>"
      ]
     },
     "execution_count": 27,
     "metadata": {},
     "output_type": "execute_result"
    },
    {
     "data": {
      "image/png": "[encoded data removed]",
      "text/plain": [
       "<matplotlib.figure.Figure at 0x7f3aada90490>"
      ]
     },
     "metadata": {},
     "output_type": "display_data"
    }
   ],
   "source": [
    "df_cancellations = pd.DataFrame(flights.groupby('DESC_DOW').sum()['CANCELLED'])\n",
    "df_cancellations=df_cancellations.sort(['CANCELLED'],ascending =1)\n",
    "df_cancellations.head()\n",
    "df_cancellations.plot(kind='line',figsize=(15,6),subplots=True,legend=True)\n",
    "plt.title('Number of cancellations each day')"
   ]
  },
  {
   "cell_type": "markdown",
   "metadata": {
    "collapsed": true
   },
   "source": [
    "Notice the trend on fridays and mondays.<br>\n",
    "Now,let's look at the reasons for cancellation data."
   ]
  },
  {
   "cell_type": "code",
   "execution_count": 28,
   "metadata": {
    "collapsed": false,
    "scrolled": true
   },
   "outputs": [
    {
     "data": {
      "text/plain": [
       "array([nan, 'A', 'B', 'C', 'D'], dtype=object)"
      ]
     },
     "execution_count": 28,
     "metadata": {},
     "output_type": "execute_result"
    }
   ],
   "source": [
    "flights.CANCELLATION_REASON.unique()"
   ]
  },
  {
   "cell_type": "markdown",
   "metadata": {},
   "source": [
    "    'CANCELLATION_REASON' indicates with a letter the reason for the cancellation of the flight.\n",
    "     A - Carrier; B - Weather; C - National Air System; D - Security"
   ]
  },
  {
   "cell_type": "code",
   "execution_count": 76,
   "metadata": {
    "collapsed": false,
    "scrolled": true
   },
   "outputs": [
    {
     "data": {
      "image/png": "[encoded data removed]",
      "text/plain": [
       "<matplotlib.figure.Figure at 0x7f3a6b9a4cd0>"
      ]
     },
     "metadata": {},
     "output_type": "display_data"
    }
   ],
   "source": [
    "cancellation_reason = pd.DataFrame(flights.groupby(['DESC_AIRLINE'])['AIR_SYSTEM_DELAY', 'AIRLINE_DELAY',\n",
    "                                               'LATE_AIRCRAFT_DELAY', 'WEATHER_DELAY'].mean())\n",
    "# flight_volume_airline_day = flights.pivot_table(index=\"DESC_DOW\",columns=\"DESC_AIRLINE\",values=\"SCHEDULED_DEPARTURE\",aggfunc=lambda x:x.count())\n",
    "cancellation_reason.head()\n",
    "cancellation_reason.plot.bar(legend = True,figsize = (20,15),rot=45)\n",
    "plt.legend(loc=1,prop={'size':19})\n",
    "plt.tick_params(labelsize = 20)"
   ]
  },
  {
   "cell_type": "markdown",
   "metadata": {},
   "source": [
    "### Let's create a ranking module for airports now\n",
    "The factors affecting the rank of airports are following:\n",
    "* Highest Ratio of (Operated flights)/(Scheduled flights)\n",
    "* Number of flight delays\n",
    "* Air traffic\n",
    "* Traffic In and Out time\n",
    "\n",
    "Let's calculate the ratio of Operated flights and Scheduled flights first."
   ]
  },
  {
   "cell_type": "code",
   "execution_count": 77,
   "metadata": {
    "collapsed": false,
    "scrolled": true
   },
   "outputs": [
    {
     "data": {
      "text/html": [
       "<div>\n",
       "<table border=\"1\" class=\"dataframe\">\n",
       "  <thead>\n",
       "    <tr style=\"text-align: right;\">\n",
       "      <th></th>\n",
       "      <th>RATIO_OP_SCH</th>\n",
       "    </tr>\n",
       "    <tr>\n",
       "      <th>DESC_OA</th>\n",
       "      <th></th>\n",
       "    </tr>\n",
       "  </thead>\n",
       "  <tbody>\n",
       "    <tr>\n",
       "      <th>Aberdeen Regional Airport</th>\n",
       "      <td>0.980132</td>\n",
       "    </tr>\n",
       "    <tr>\n",
       "      <th>Abilene Regional Airport</th>\n",
       "      <td>0.901024</td>\n",
       "    </tr>\n",
       "    <tr>\n",
       "      <th>Abraham Lincoln Capital Airport</th>\n",
       "      <td>0.913947</td>\n",
       "    </tr>\n",
       "    <tr>\n",
       "      <th>Adak Airport</th>\n",
       "      <td>0.954545</td>\n",
       "    </tr>\n",
       "    <tr>\n",
       "      <th>Akron-Canton Regional Airport</th>\n",
       "      <td>0.960563</td>\n",
       "    </tr>\n",
       "  </tbody>\n",
       "</table>\n",
       "</div>"
      ],
      "text/plain": [
       "                                 RATIO_OP_SCH\n",
       "DESC_OA                                      \n",
       "Aberdeen Regional Airport            0.980132\n",
       "Abilene Regional Airport             0.901024\n",
       "Abraham Lincoln Capital Airport      0.913947\n",
       "Adak Airport                         0.954545\n",
       "Akron-Canton Regional Airport        0.960563"
      ]
     },
     "execution_count": 77,
     "metadata": {},
     "output_type": "execute_result"
    }
   ],
   "source": [
    "flights['DESC_OA']=flights['ORIGIN_AIRPORT'].apply(lambda x:airport_dict[x])\n",
    "flights['DESC_DA']=flights['DESTINATION_AIRPORT'].apply(lambda x:airport_dict[x])\n",
    "rank_airport = pd.DataFrame(flights.groupby('DESC_OA')['SCHEDULED_DEPARTURE'].count())\n",
    "rank_airport['CANCELLED']=flights.groupby('DESC_OA')['CANCELLED'].sum()\n",
    "rank_airport['OPERATED']=rank_airport['SCHEDULED_DEPARTURE']-rank_airport['CANCELLED']\n",
    "rank_airport['RATIO_OP_SCH']=rank_airport['OPERATED']/rank_airport['SCHEDULED_DEPARTURE']\n",
    "rank_airport.drop(rank_airport.columns[[0,1,2]],axis=1,inplace=True)\n",
    "rank_airport.head()"
   ]
  },
  {
   "cell_type": "markdown",
   "metadata": {},
   "source": [
    "Now,let's calculate the number of flight delays.I am considering only the delays in departure as I have already mentioned about departure delays happening due to airports and arrival delays due to airlines."
   ]
  },
  {
   "cell_type": "code",
   "execution_count": 78,
   "metadata": {
    "collapsed": false,
    "scrolled": true
   },
   "outputs": [
    {
     "data": {
      "text/html": [
       "<div>\n",
       "<table border=\"1\" class=\"dataframe\">\n",
       "  <thead>\n",
       "    <tr style=\"text-align: right;\">\n",
       "      <th></th>\n",
       "      <th>RATIO_OP_SCH</th>\n",
       "      <th>NO_FLIGHT_DELAYS</th>\n",
       "    </tr>\n",
       "    <tr>\n",
       "      <th>DESC_OA</th>\n",
       "      <th></th>\n",
       "      <th></th>\n",
       "    </tr>\n",
       "  </thead>\n",
       "  <tbody>\n",
       "    <tr>\n",
       "      <th>Aberdeen Regional Airport</th>\n",
       "      <td>0.980132</td>\n",
       "      <td>30</td>\n",
       "    </tr>\n",
       "    <tr>\n",
       "      <th>Abilene Regional Airport</th>\n",
       "      <td>0.901024</td>\n",
       "      <td>170</td>\n",
       "    </tr>\n",
       "    <tr>\n",
       "      <th>Abraham Lincoln Capital Airport</th>\n",
       "      <td>0.913947</td>\n",
       "      <td>91</td>\n",
       "    </tr>\n",
       "    <tr>\n",
       "      <th>Adak Airport</th>\n",
       "      <td>0.954545</td>\n",
       "      <td>9</td>\n",
       "    </tr>\n",
       "    <tr>\n",
       "      <th>Akron-Canton Regional Airport</th>\n",
       "      <td>0.960563</td>\n",
       "      <td>404</td>\n",
       "    </tr>\n",
       "  </tbody>\n",
       "</table>\n",
       "</div>"
      ],
      "text/plain": [
       "                                 RATIO_OP_SCH  NO_FLIGHT_DELAYS\n",
       "DESC_OA                                                        \n",
       "Aberdeen Regional Airport            0.980132                30\n",
       "Abilene Regional Airport             0.901024               170\n",
       "Abraham Lincoln Capital Airport      0.913947                91\n",
       "Adak Airport                         0.954545                 9\n",
       "Akron-Canton Regional Airport        0.960563               404"
      ]
     },
     "execution_count": 78,
     "metadata": {},
     "output_type": "execute_result"
    }
   ],
   "source": [
    "df_flights_copy = flights.copy()\n",
    "df_flights_copy['DEPARTURE_DELAY'] = df_flights_copy['DEPARTURE_DELAY'].apply(lambda x: 1 if(x>0) else 0)\n",
    "df_flights_copy['DEPARTURE_DELAY'].head()\n",
    "rank_airport['NO_FLIGHT_DELAYS'] = df_flights_copy.groupby('DESC_OA')['DEPARTURE_DELAY'].sum()\n",
    "\n",
    "rank_airport.head()"
   ]
  },
  {
   "cell_type": "markdown",
   "metadata": {},
   "source": [
    "Now,let's calculate air traffic i.e. the number of flights in air heading for a particular airport."
   ]
  },
  {
   "cell_type": "code",
   "execution_count": 79,
   "metadata": {
    "collapsed": false
   },
   "outputs": [
    {
     "data": {
      "text/html": [
       "<div>\n",
       "<table border=\"1\" class=\"dataframe\">\n",
       "  <thead>\n",
       "    <tr style=\"text-align: right;\">\n",
       "      <th></th>\n",
       "      <th>RATIO_OP_SCH</th>\n",
       "      <th>NO_FLIGHT_DELAYS</th>\n",
       "      <th>AIR_TRAFFIC</th>\n",
       "    </tr>\n",
       "    <tr>\n",
       "      <th>DESC_OA</th>\n",
       "      <th></th>\n",
       "      <th></th>\n",
       "      <th></th>\n",
       "    </tr>\n",
       "  </thead>\n",
       "  <tbody>\n",
       "    <tr>\n",
       "      <th>Aberdeen Regional Airport</th>\n",
       "      <td>0.980132</td>\n",
       "      <td>30</td>\n",
       "      <td>150</td>\n",
       "    </tr>\n",
       "    <tr>\n",
       "      <th>Abilene Regional Airport</th>\n",
       "      <td>0.901024</td>\n",
       "      <td>170</td>\n",
       "      <td>583</td>\n",
       "    </tr>\n",
       "    <tr>\n",
       "      <th>Abraham Lincoln Capital Airport</th>\n",
       "      <td>0.913947</td>\n",
       "      <td>91</td>\n",
       "      <td>335</td>\n",
       "    </tr>\n",
       "    <tr>\n",
       "      <th>Adak Airport</th>\n",
       "      <td>0.954545</td>\n",
       "      <td>9</td>\n",
       "      <td>22</td>\n",
       "    </tr>\n",
       "    <tr>\n",
       "      <th>Akron-Canton Regional Airport</th>\n",
       "      <td>0.960563</td>\n",
       "      <td>404</td>\n",
       "      <td>1416</td>\n",
       "    </tr>\n",
       "  </tbody>\n",
       "</table>\n",
       "</div>"
      ],
      "text/plain": [
       "                                 RATIO_OP_SCH  NO_FLIGHT_DELAYS  AIR_TRAFFIC\n",
       "DESC_OA                                                                     \n",
       "Aberdeen Regional Airport            0.980132                30          150\n",
       "Abilene Regional Airport             0.901024               170          583\n",
       "Abraham Lincoln Capital Airport      0.913947                91          335\n",
       "Adak Airport                         0.954545                 9           22\n",
       "Akron-Canton Regional Airport        0.960563               404         1416"
      ]
     },
     "execution_count": 79,
     "metadata": {},
     "output_type": "execute_result"
    }
   ],
   "source": [
    "rank_airport['AIR_TRAFFIC']=flights.groupby('DESC_DA')['SCHEDULED_DEPARTURE'].count()\n",
    "rank_airport.head()"
   ]
  },
  {
   "cell_type": "code",
   "execution_count": 80,
   "metadata": {
    "collapsed": false
   },
   "outputs": [
    {
     "data": {
      "text/html": [
       "<div>\n",
       "<table border=\"1\" class=\"dataframe\">\n",
       "  <thead>\n",
       "    <tr style=\"text-align: right;\">\n",
       "      <th></th>\n",
       "      <th>RATIO_OP_SCH</th>\n",
       "      <th>NO_FLIGHT_DELAYS</th>\n",
       "      <th>AIR_TRAFFIC</th>\n",
       "      <th>TAXI_OUT</th>\n",
       "      <th>TAXI_IN</th>\n",
       "    </tr>\n",
       "    <tr>\n",
       "      <th>DESC_OA</th>\n",
       "      <th></th>\n",
       "      <th></th>\n",
       "      <th></th>\n",
       "      <th></th>\n",
       "      <th></th>\n",
       "    </tr>\n",
       "  </thead>\n",
       "  <tbody>\n",
       "    <tr>\n",
       "      <th>Aberdeen Regional Airport</th>\n",
       "      <td>0.980132</td>\n",
       "      <td>30</td>\n",
       "      <td>150</td>\n",
       "      <td>16.452703</td>\n",
       "      <td>4.876712</td>\n",
       "    </tr>\n",
       "    <tr>\n",
       "      <th>Abilene Regional Airport</th>\n",
       "      <td>0.901024</td>\n",
       "      <td>170</td>\n",
       "      <td>583</td>\n",
       "      <td>10.147727</td>\n",
       "      <td>3.442125</td>\n",
       "    </tr>\n",
       "    <tr>\n",
       "      <th>Abraham Lincoln Capital Airport</th>\n",
       "      <td>0.913947</td>\n",
       "      <td>91</td>\n",
       "      <td>335</td>\n",
       "      <td>15.993506</td>\n",
       "      <td>4.257329</td>\n",
       "    </tr>\n",
       "    <tr>\n",
       "      <th>Adak Airport</th>\n",
       "      <td>0.954545</td>\n",
       "      <td>9</td>\n",
       "      <td>22</td>\n",
       "      <td>9.714286</td>\n",
       "      <td>4.047619</td>\n",
       "    </tr>\n",
       "    <tr>\n",
       "      <th>Akron-Canton Regional Airport</th>\n",
       "      <td>0.960563</td>\n",
       "      <td>404</td>\n",
       "      <td>1416</td>\n",
       "      <td>18.148827</td>\n",
       "      <td>5.111029</td>\n",
       "    </tr>\n",
       "  </tbody>\n",
       "</table>\n",
       "</div>"
      ],
      "text/plain": [
       "                                 RATIO_OP_SCH  NO_FLIGHT_DELAYS  AIR_TRAFFIC  \\\n",
       "DESC_OA                                                                        \n",
       "Aberdeen Regional Airport            0.980132                30          150   \n",
       "Abilene Regional Airport             0.901024               170          583   \n",
       "Abraham Lincoln Capital Airport      0.913947                91          335   \n",
       "Adak Airport                         0.954545                 9           22   \n",
       "Akron-Canton Regional Airport        0.960563               404         1416   \n",
       "\n",
       "                                  TAXI_OUT   TAXI_IN  \n",
       "DESC_OA                                               \n",
       "Aberdeen Regional Airport        16.452703  4.876712  \n",
       "Abilene Regional Airport         10.147727  3.442125  \n",
       "Abraham Lincoln Capital Airport  15.993506  4.257329  \n",
       "Adak Airport                      9.714286  4.047619  \n",
       "Akron-Canton Regional Airport    18.148827  5.111029  "
      ]
     },
     "execution_count": 80,
     "metadata": {},
     "output_type": "execute_result"
    }
   ],
   "source": [
    "rank_airport['TAXI_OUT']=flights.groupby('DESC_OA')['TAXI_OUT'].mean()\n",
    "rank_airport['TAXI_IN']=flights.groupby('DESC_DA')['TAXI_IN'].mean()\n",
    "rank_airport.head()"
   ]
  },
  {
   "cell_type": "markdown",
   "metadata": {},
   "source": [
    "\n",
    "Again,here we can make a formula just like earlier for rank predictions.<br>\n",
    "score = a/(1+b) where<br>\n",
    "a = (RATIO_OP_SCH)\\*(AIR_TRAFFIC) and <br>\n",
    "b = (NO_FLIGHT_DELAYS)\\*(TAXI_OUT)\\*(TAXI_IN)"
   ]
  },
  {
   "cell_type": "code",
   "execution_count": 85,
   "metadata": {
    "collapsed": false
   },
   "outputs": [
    {
     "name": "stderr",
     "output_type": "stream",
     "text": [
      "/home/utkarsh/anaconda2/lib/python2.7/site-packages/ipykernel/__main__.py:7: FutureWarning: sort(columns=....) is deprecated, use sort_values(by=.....)\n"
     ]
    },
    {
     "data": {
      "text/html": [
       "<div>\n",
       "<table border=\"1\" class=\"dataframe\">\n",
       "  <thead>\n",
       "    <tr style=\"text-align: right;\">\n",
       "      <th></th>\n",
       "      <th>RATIO_OP_SCH</th>\n",
       "      <th>NO_FLIGHT_DELAYS</th>\n",
       "      <th>AIR_TRAFFIC</th>\n",
       "      <th>TAXI_OUT</th>\n",
       "      <th>TAXI_IN</th>\n",
       "      <th>SCORE</th>\n",
       "    </tr>\n",
       "    <tr>\n",
       "      <th>DESC_OA</th>\n",
       "      <th></th>\n",
       "      <th></th>\n",
       "      <th></th>\n",
       "      <th></th>\n",
       "      <th></th>\n",
       "      <th></th>\n",
       "    </tr>\n",
       "  </thead>\n",
       "  <tbody>\n",
       "    <tr>\n",
       "      <th>Canyonlands Field</th>\n",
       "      <td>1.976923</td>\n",
       "      <td>1.000234</td>\n",
       "      <td>1.001671</td>\n",
       "      <td>1.000000</td>\n",
       "      <td>1.026550</td>\n",
       "      <td>0.977026</td>\n",
       "    </tr>\n",
       "    <tr>\n",
       "      <th>Valdez Airport</th>\n",
       "      <td>1.906977</td>\n",
       "      <td>1.000234</td>\n",
       "      <td>1.001644</td>\n",
       "      <td>1.065454</td>\n",
       "      <td>1.000000</td>\n",
       "      <td>0.924679</td>\n",
       "    </tr>\n",
       "    <tr>\n",
       "      <th>Bethel Airport</th>\n",
       "      <td>1.940594</td>\n",
       "      <td>1.001805</td>\n",
       "      <td>1.002642</td>\n",
       "      <td>1.067395</td>\n",
       "      <td>1.111968</td>\n",
       "      <td>0.888842</td>\n",
       "    </tr>\n",
       "    <tr>\n",
       "      <th>Merle K. (Mudhole) Smith Airport</th>\n",
       "      <td>1.918919</td>\n",
       "      <td>1.000969</td>\n",
       "      <td>1.001914</td>\n",
       "      <td>1.083196</td>\n",
       "      <td>1.095979</td>\n",
       "      <td>0.878573</td>\n",
       "    </tr>\n",
       "    <tr>\n",
       "      <th>Valley International Airport</th>\n",
       "      <td>1.957082</td>\n",
       "      <td>1.004879</td>\n",
       "      <td>1.009380</td>\n",
       "      <td>1.136996</td>\n",
       "      <td>1.104599</td>\n",
       "      <td>0.873295</td>\n",
       "    </tr>\n",
       "  </tbody>\n",
       "</table>\n",
       "</div>"
      ],
      "text/plain": [
       "                                  RATIO_OP_SCH  NO_FLIGHT_DELAYS  AIR_TRAFFIC  \\\n",
       "DESC_OA                                                                         \n",
       "Canyonlands Field                     1.976923          1.000234     1.001671   \n",
       "Valdez Airport                        1.906977          1.000234     1.001644   \n",
       "Bethel Airport                        1.940594          1.001805     1.002642   \n",
       "Merle K. (Mudhole) Smith Airport      1.918919          1.000969     1.001914   \n",
       "Valley International Airport          1.957082          1.004879     1.009380   \n",
       "\n",
       "                                  TAXI_OUT   TAXI_IN     SCORE  \n",
       "DESC_OA                                                         \n",
       "Canyonlands Field                 1.000000  1.026550  0.977026  \n",
       "Valdez Airport                    1.065454  1.000000  0.924679  \n",
       "Bethel Airport                    1.067395  1.111968  0.888842  \n",
       "Merle K. (Mudhole) Smith Airport  1.083196  1.095979  0.878573  \n",
       "Valley International Airport      1.136996  1.104599  0.873295  "
      ]
     },
     "execution_count": 85,
     "metadata": {},
     "output_type": "execute_result"
    }
   ],
   "source": [
    "# I have scaled the data to 1-2\n",
    "for i in rank_airport.columns:\n",
    "    rank_airport[i] = ((rank_airport[i]-rank_airport[i].min())/(rank_airport[i].max()-rank_airport[i].min()))+1\n",
    "a = rank_airport.RATIO_OP_SCH*rank_airport.AIR_TRAFFIC\n",
    "b = rank_airport.NO_FLIGHT_DELAYS*rank_airport.TAXI_IN*rank_airport.TAXI_OUT\n",
    "rank_airport['SCORE'] = a/(1+b)\n",
    "rank_airport.sort(['SCORE'],ascending=False,inplace=True)\n",
    "rank_airport.head()"
   ]
  },
  {
   "cell_type": "markdown",
   "metadata": {},
   "source": [
    "Let's tackle the third problem.\n",
    "* Given the flight delays for the airports, can you predict the estimated delay for the flight ?\n",
    "\n",
    "I am assuming that giving flight delays means we have the mean departure delay and arrival delay at all airports.\n",
    "In simple terms,we know the delays on an average for any flight departing or arriving at a particular airport."
   ]
  },
  {
   "cell_type": "code",
   "execution_count": 86,
   "metadata": {
    "collapsed": false,
    "scrolled": true
   },
   "outputs": [
    {
     "data": {
      "text/html": [
       "<div>\n",
       "<table border=\"1\" class=\"dataframe\">\n",
       "  <thead>\n",
       "    <tr style=\"text-align: right;\">\n",
       "      <th>DESC_AIRLINE</th>\n",
       "      <th>Alaska Airlines Inc.</th>\n",
       "      <th>American Airlines Inc.</th>\n",
       "      <th>American Eagle Airlines Inc.</th>\n",
       "      <th>Atlantic Southeast Airlines</th>\n",
       "      <th>Delta Air Lines Inc.</th>\n",
       "      <th>Frontier Airlines Inc.</th>\n",
       "      <th>Hawaiian Airlines Inc.</th>\n",
       "      <th>JetBlue Airways</th>\n",
       "      <th>Skywest Airlines Inc.</th>\n",
       "      <th>Southwest Airlines Co.</th>\n",
       "      <th>Spirit Air Lines</th>\n",
       "      <th>US Airways Inc.</th>\n",
       "      <th>United Air Lines Inc.</th>\n",
       "      <th>Virgin America</th>\n",
       "    </tr>\n",
       "    <tr>\n",
       "      <th>DESC_OA</th>\n",
       "      <th></th>\n",
       "      <th></th>\n",
       "      <th></th>\n",
       "      <th></th>\n",
       "      <th></th>\n",
       "      <th></th>\n",
       "      <th></th>\n",
       "      <th></th>\n",
       "      <th></th>\n",
       "      <th></th>\n",
       "      <th></th>\n",
       "      <th></th>\n",
       "      <th></th>\n",
       "      <th></th>\n",
       "    </tr>\n",
       "  </thead>\n",
       "  <tbody>\n",
       "    <tr>\n",
       "      <th>Aberdeen Regional Airport</th>\n",
       "      <td>NaN</td>\n",
       "      <td>NaN</td>\n",
       "      <td>NaN</td>\n",
       "      <td>NaN</td>\n",
       "      <td>NaN</td>\n",
       "      <td>NaN</td>\n",
       "      <td>NaN</td>\n",
       "      <td>NaN</td>\n",
       "      <td>20.581081</td>\n",
       "      <td>NaN</td>\n",
       "      <td>NaN</td>\n",
       "      <td>NaN</td>\n",
       "      <td>NaN</td>\n",
       "      <td>NaN</td>\n",
       "    </tr>\n",
       "    <tr>\n",
       "      <th>Abilene Regional Airport</th>\n",
       "      <td>NaN</td>\n",
       "      <td>NaN</td>\n",
       "      <td>7.555766</td>\n",
       "      <td>NaN</td>\n",
       "      <td>NaN</td>\n",
       "      <td>NaN</td>\n",
       "      <td>NaN</td>\n",
       "      <td>NaN</td>\n",
       "      <td>NaN</td>\n",
       "      <td>NaN</td>\n",
       "      <td>NaN</td>\n",
       "      <td>NaN</td>\n",
       "      <td>NaN</td>\n",
       "      <td>NaN</td>\n",
       "    </tr>\n",
       "    <tr>\n",
       "      <th>Abraham Lincoln Capital Airport</th>\n",
       "      <td>NaN</td>\n",
       "      <td>NaN</td>\n",
       "      <td>9.234694</td>\n",
       "      <td>NaN</td>\n",
       "      <td>NaN</td>\n",
       "      <td>NaN</td>\n",
       "      <td>NaN</td>\n",
       "      <td>NaN</td>\n",
       "      <td>10.568720</td>\n",
       "      <td>NaN</td>\n",
       "      <td>NaN</td>\n",
       "      <td>NaN</td>\n",
       "      <td>NaN</td>\n",
       "      <td>NaN</td>\n",
       "    </tr>\n",
       "    <tr>\n",
       "      <th>Adak Airport</th>\n",
       "      <td>1.857143</td>\n",
       "      <td>NaN</td>\n",
       "      <td>NaN</td>\n",
       "      <td>NaN</td>\n",
       "      <td>NaN</td>\n",
       "      <td>NaN</td>\n",
       "      <td>NaN</td>\n",
       "      <td>NaN</td>\n",
       "      <td>NaN</td>\n",
       "      <td>NaN</td>\n",
       "      <td>NaN</td>\n",
       "      <td>NaN</td>\n",
       "      <td>NaN</td>\n",
       "      <td>NaN</td>\n",
       "    </tr>\n",
       "    <tr>\n",
       "      <th>Akron-Canton Regional Airport</th>\n",
       "      <td>NaN</td>\n",
       "      <td>NaN</td>\n",
       "      <td>NaN</td>\n",
       "      <td>9.202847</td>\n",
       "      <td>9.47</td>\n",
       "      <td>NaN</td>\n",
       "      <td>NaN</td>\n",
       "      <td>NaN</td>\n",
       "      <td>63.500000</td>\n",
       "      <td>5.302177</td>\n",
       "      <td>NaN</td>\n",
       "      <td>NaN</td>\n",
       "      <td>NaN</td>\n",
       "      <td>NaN</td>\n",
       "    </tr>\n",
       "  </tbody>\n",
       "</table>\n",
       "</div>"
      ],
      "text/plain": [
       "DESC_AIRLINE                     Alaska Airlines Inc.  American Airlines Inc.  \\\n",
       "DESC_OA                                                                         \n",
       "Aberdeen Regional Airport                         NaN                     NaN   \n",
       "Abilene Regional Airport                          NaN                     NaN   \n",
       "Abraham Lincoln Capital Airport                   NaN                     NaN   \n",
       "Adak Airport                                 1.857143                     NaN   \n",
       "Akron-Canton Regional Airport                     NaN                     NaN   \n",
       "\n",
       "DESC_AIRLINE                     American Eagle Airlines Inc.  \\\n",
       "DESC_OA                                                         \n",
       "Aberdeen Regional Airport                                 NaN   \n",
       "Abilene Regional Airport                             7.555766   \n",
       "Abraham Lincoln Capital Airport                      9.234694   \n",
       "Adak Airport                                              NaN   \n",
       "Akron-Canton Regional Airport                             NaN   \n",
       "\n",
       "DESC_AIRLINE                     Atlantic Southeast Airlines  \\\n",
       "DESC_OA                                                        \n",
       "Aberdeen Regional Airport                                NaN   \n",
       "Abilene Regional Airport                                 NaN   \n",
       "Abraham Lincoln Capital Airport                          NaN   \n",
       "Adak Airport                                             NaN   \n",
       "Akron-Canton Regional Airport                       9.202847   \n",
       "\n",
       "DESC_AIRLINE                     Delta Air Lines Inc.  Frontier Airlines Inc.  \\\n",
       "DESC_OA                                                                         \n",
       "Aberdeen Regional Airport                         NaN                     NaN   \n",
       "Abilene Regional Airport                          NaN                     NaN   \n",
       "Abraham Lincoln Capital Airport                   NaN                     NaN   \n",
       "Adak Airport                                      NaN                     NaN   \n",
       "Akron-Canton Regional Airport                    9.47                     NaN   \n",
       "\n",
       "DESC_AIRLINE                     Hawaiian Airlines Inc.  JetBlue Airways  \\\n",
       "DESC_OA                                                                    \n",
       "Aberdeen Regional Airport                           NaN              NaN   \n",
       "Abilene Regional Airport                            NaN              NaN   \n",
       "Abraham Lincoln Capital Airport                     NaN              NaN   \n",
       "Adak Airport                                        NaN              NaN   \n",
       "Akron-Canton Regional Airport                       NaN              NaN   \n",
       "\n",
       "DESC_AIRLINE                     Skywest Airlines Inc.  \\\n",
       "DESC_OA                                                  \n",
       "Aberdeen Regional Airport                    20.581081   \n",
       "Abilene Regional Airport                           NaN   \n",
       "Abraham Lincoln Capital Airport              10.568720   \n",
       "Adak Airport                                       NaN   \n",
       "Akron-Canton Regional Airport                63.500000   \n",
       "\n",
       "DESC_AIRLINE                     Southwest Airlines Co.  Spirit Air Lines  \\\n",
       "DESC_OA                                                                     \n",
       "Aberdeen Regional Airport                           NaN               NaN   \n",
       "Abilene Regional Airport                            NaN               NaN   \n",
       "Abraham Lincoln Capital Airport                     NaN               NaN   \n",
       "Adak Airport                                        NaN               NaN   \n",
       "Akron-Canton Regional Airport                  5.302177               NaN   \n",
       "\n",
       "DESC_AIRLINE                     US Airways Inc.  United Air Lines Inc.  \\\n",
       "DESC_OA                                                                   \n",
       "Aberdeen Regional Airport                    NaN                    NaN   \n",
       "Abilene Regional Airport                     NaN                    NaN   \n",
       "Abraham Lincoln Capital Airport              NaN                    NaN   \n",
       "Adak Airport                                 NaN                    NaN   \n",
       "Akron-Canton Regional Airport                NaN                    NaN   \n",
       "\n",
       "DESC_AIRLINE                     Virgin America  \n",
       "DESC_OA                                          \n",
       "Aberdeen Regional Airport                   NaN  \n",
       "Abilene Regional Airport                    NaN  \n",
       "Abraham Lincoln Capital Airport             NaN  \n",
       "Adak Airport                                NaN  \n",
       "Akron-Canton Regional Airport               NaN  "
      ]
     },
     "execution_count": 86,
     "metadata": {},
     "output_type": "execute_result"
    }
   ],
   "source": [
    "#Considering departure delays\n",
    "OA_AIRLINE_DELAY = flights.pivot_table(index = \"DESC_OA\",columns = \"DESC_AIRLINE\",values = \"DEPARTURE_DELAY\",\n",
    "                    aggfunc = lambda x:x.mean()).head()\n",
    "#Think of it as M X N matrix where airports and airlines are rows and columns resp.\n",
    "# A[i][j] represent the mean departure delay of an airline j when it departs from an airport i.\n",
    "OA_AIRLINE_DELAY.head()\n"
   ]
  },
  {
   "cell_type": "code",
   "execution_count": 87,
   "metadata": {
    "collapsed": false
   },
   "outputs": [
    {
     "data": {
      "text/html": [
       "<div>\n",
       "<table border=\"1\" class=\"dataframe\">\n",
       "  <thead>\n",
       "    <tr style=\"text-align: right;\">\n",
       "      <th>DESC_AIRLINE</th>\n",
       "      <th>Alaska Airlines Inc.</th>\n",
       "      <th>American Airlines Inc.</th>\n",
       "      <th>American Eagle Airlines Inc.</th>\n",
       "      <th>Atlantic Southeast Airlines</th>\n",
       "      <th>Delta Air Lines Inc.</th>\n",
       "      <th>Frontier Airlines Inc.</th>\n",
       "      <th>Hawaiian Airlines Inc.</th>\n",
       "      <th>JetBlue Airways</th>\n",
       "      <th>Skywest Airlines Inc.</th>\n",
       "      <th>Southwest Airlines Co.</th>\n",
       "      <th>Spirit Air Lines</th>\n",
       "      <th>US Airways Inc.</th>\n",
       "      <th>United Air Lines Inc.</th>\n",
       "      <th>Virgin America</th>\n",
       "    </tr>\n",
       "    <tr>\n",
       "      <th>DESC_DA</th>\n",
       "      <th></th>\n",
       "      <th></th>\n",
       "      <th></th>\n",
       "      <th></th>\n",
       "      <th></th>\n",
       "      <th></th>\n",
       "      <th></th>\n",
       "      <th></th>\n",
       "      <th></th>\n",
       "      <th></th>\n",
       "      <th></th>\n",
       "      <th></th>\n",
       "      <th></th>\n",
       "      <th></th>\n",
       "    </tr>\n",
       "  </thead>\n",
       "  <tbody>\n",
       "    <tr>\n",
       "      <th>Aberdeen Regional Airport</th>\n",
       "      <td>NaN</td>\n",
       "      <td>NaN</td>\n",
       "      <td>NaN</td>\n",
       "      <td>NaN</td>\n",
       "      <td>NaN</td>\n",
       "      <td>NaN</td>\n",
       "      <td>NaN</td>\n",
       "      <td>NaN</td>\n",
       "      <td>-6.173611</td>\n",
       "      <td>NaN</td>\n",
       "      <td>NaN</td>\n",
       "      <td>NaN</td>\n",
       "      <td>NaN</td>\n",
       "      <td>NaN</td>\n",
       "    </tr>\n",
       "    <tr>\n",
       "      <th>Abilene Regional Airport</th>\n",
       "      <td>NaN</td>\n",
       "      <td>NaN</td>\n",
       "      <td>13.075901</td>\n",
       "      <td>NaN</td>\n",
       "      <td>NaN</td>\n",
       "      <td>NaN</td>\n",
       "      <td>NaN</td>\n",
       "      <td>NaN</td>\n",
       "      <td>NaN</td>\n",
       "      <td>NaN</td>\n",
       "      <td>NaN</td>\n",
       "      <td>NaN</td>\n",
       "      <td>NaN</td>\n",
       "      <td>NaN</td>\n",
       "    </tr>\n",
       "    <tr>\n",
       "      <th>Abraham Lincoln Capital Airport</th>\n",
       "      <td>NaN</td>\n",
       "      <td>NaN</td>\n",
       "      <td>17.836735</td>\n",
       "      <td>NaN</td>\n",
       "      <td>NaN</td>\n",
       "      <td>NaN</td>\n",
       "      <td>NaN</td>\n",
       "      <td>NaN</td>\n",
       "      <td>11.024038</td>\n",
       "      <td>NaN</td>\n",
       "      <td>NaN</td>\n",
       "      <td>NaN</td>\n",
       "      <td>NaN</td>\n",
       "      <td>NaN</td>\n",
       "    </tr>\n",
       "    <tr>\n",
       "      <th>Adak Airport</th>\n",
       "      <td>-8.666667</td>\n",
       "      <td>NaN</td>\n",
       "      <td>NaN</td>\n",
       "      <td>NaN</td>\n",
       "      <td>NaN</td>\n",
       "      <td>NaN</td>\n",
       "      <td>NaN</td>\n",
       "      <td>NaN</td>\n",
       "      <td>NaN</td>\n",
       "      <td>NaN</td>\n",
       "      <td>NaN</td>\n",
       "      <td>NaN</td>\n",
       "      <td>NaN</td>\n",
       "      <td>NaN</td>\n",
       "    </tr>\n",
       "    <tr>\n",
       "      <th>Akron-Canton Regional Airport</th>\n",
       "      <td>NaN</td>\n",
       "      <td>NaN</td>\n",
       "      <td>NaN</td>\n",
       "      <td>10.238434</td>\n",
       "      <td>8.107023</td>\n",
       "      <td>NaN</td>\n",
       "      <td>NaN</td>\n",
       "      <td>NaN</td>\n",
       "      <td>87.500000</td>\n",
       "      <td>5.70399</td>\n",
       "      <td>NaN</td>\n",
       "      <td>NaN</td>\n",
       "      <td>NaN</td>\n",
       "      <td>NaN</td>\n",
       "    </tr>\n",
       "  </tbody>\n",
       "</table>\n",
       "</div>"
      ],
      "text/plain": [
       "DESC_AIRLINE                     Alaska Airlines Inc.  American Airlines Inc.  \\\n",
       "DESC_DA                                                                         \n",
       "Aberdeen Regional Airport                         NaN                     NaN   \n",
       "Abilene Regional Airport                          NaN                     NaN   \n",
       "Abraham Lincoln Capital Airport                   NaN                     NaN   \n",
       "Adak Airport                                -8.666667                     NaN   \n",
       "Akron-Canton Regional Airport                     NaN                     NaN   \n",
       "\n",
       "DESC_AIRLINE                     American Eagle Airlines Inc.  \\\n",
       "DESC_DA                                                         \n",
       "Aberdeen Regional Airport                                 NaN   \n",
       "Abilene Regional Airport                            13.075901   \n",
       "Abraham Lincoln Capital Airport                     17.836735   \n",
       "Adak Airport                                              NaN   \n",
       "Akron-Canton Regional Airport                             NaN   \n",
       "\n",
       "DESC_AIRLINE                     Atlantic Southeast Airlines  \\\n",
       "DESC_DA                                                        \n",
       "Aberdeen Regional Airport                                NaN   \n",
       "Abilene Regional Airport                                 NaN   \n",
       "Abraham Lincoln Capital Airport                          NaN   \n",
       "Adak Airport                                             NaN   \n",
       "Akron-Canton Regional Airport                      10.238434   \n",
       "\n",
       "DESC_AIRLINE                     Delta Air Lines Inc.  Frontier Airlines Inc.  \\\n",
       "DESC_DA                                                                         \n",
       "Aberdeen Regional Airport                         NaN                     NaN   \n",
       "Abilene Regional Airport                          NaN                     NaN   \n",
       "Abraham Lincoln Capital Airport                   NaN                     NaN   \n",
       "Adak Airport                                      NaN                     NaN   \n",
       "Akron-Canton Regional Airport                8.107023                     NaN   \n",
       "\n",
       "DESC_AIRLINE                     Hawaiian Airlines Inc.  JetBlue Airways  \\\n",
       "DESC_DA                                                                    \n",
       "Aberdeen Regional Airport                           NaN              NaN   \n",
       "Abilene Regional Airport                            NaN              NaN   \n",
       "Abraham Lincoln Capital Airport                     NaN              NaN   \n",
       "Adak Airport                                        NaN              NaN   \n",
       "Akron-Canton Regional Airport                       NaN              NaN   \n",
       "\n",
       "DESC_AIRLINE                     Skywest Airlines Inc.  \\\n",
       "DESC_DA                                                  \n",
       "Aberdeen Regional Airport                    -6.173611   \n",
       "Abilene Regional Airport                           NaN   \n",
       "Abraham Lincoln Capital Airport              11.024038   \n",
       "Adak Airport                                       NaN   \n",
       "Akron-Canton Regional Airport                87.500000   \n",
       "\n",
       "DESC_AIRLINE                     Southwest Airlines Co.  Spirit Air Lines  \\\n",
       "DESC_DA                                                                     \n",
       "Aberdeen Regional Airport                           NaN               NaN   \n",
       "Abilene Regional Airport                            NaN               NaN   \n",
       "Abraham Lincoln Capital Airport                     NaN               NaN   \n",
       "Adak Airport                                        NaN               NaN   \n",
       "Akron-Canton Regional Airport                   5.70399               NaN   \n",
       "\n",
       "DESC_AIRLINE                     US Airways Inc.  United Air Lines Inc.  \\\n",
       "DESC_DA                                                                   \n",
       "Aberdeen Regional Airport                    NaN                    NaN   \n",
       "Abilene Regional Airport                     NaN                    NaN   \n",
       "Abraham Lincoln Capital Airport              NaN                    NaN   \n",
       "Adak Airport                                 NaN                    NaN   \n",
       "Akron-Canton Regional Airport                NaN                    NaN   \n",
       "\n",
       "DESC_AIRLINE                     Virgin America  \n",
       "DESC_DA                                          \n",
       "Aberdeen Regional Airport                   NaN  \n",
       "Abilene Regional Airport                    NaN  \n",
       "Abraham Lincoln Capital Airport             NaN  \n",
       "Adak Airport                                NaN  \n",
       "Akron-Canton Regional Airport               NaN  "
      ]
     },
     "execution_count": 87,
     "metadata": {},
     "output_type": "execute_result"
    }
   ],
   "source": [
    "#Considering departure delays\n",
    "DA_AIRLINE_DELAY = flights.pivot_table(index = \"DESC_DA\",columns = \"DESC_AIRLINE\",values = \"ARRIVAL_DELAY\",aggfunc = lambda x:x.mean())\n",
    "DA_AIRLINE_DELAY.head()"
   ]
  },
  {
   "cell_type": "markdown",
   "metadata": {
    "collapsed": true
   },
   "source": [
    "Now,according to the problem.we have\n",
    "* avg arrival delay of an airport\n",
    "* avg departure delay of an airport\n",
    "* flight information like departure airport and arrival airport\n"
   ]
  },
  {
   "cell_type": "markdown",
   "metadata": {},
   "source": [
    "Let i denote the airports and j denote the airlines.<br>\n",
    "A<sup>ij</sup> denotes the mean departure delay of airline j at airport i in the matrix OA_AIRLINE_DELAY.\n",
    "If C<sup>i</sup> denotes the departure delay of ith airport(input),then the predicted value of departure delay of jth airline at the ith airport = <br>\n",
    "<img src = 'img.png'>\n",
    "where A<sup>ij</sup> is not NaN."
   ]
  }
 ],
 "metadata": {
  "kernelspec": {
   "display_name": "Python 2",
   "language": "python",
   "name": "python2"
  },
  "language_info": {
   "codemirror_mode": {
    "name": "ipython",
    "version": 2
   },
   "file_extension": ".py",
   "mimetype": "text/x-python",
   "name": "python",
   "nbconvert_exporter": "python",
   "pygments_lexer": "ipython2",
   "version": "2.7.11"
  }
 },
 "nbformat": 4,
 "nbformat_minor": 0
}
